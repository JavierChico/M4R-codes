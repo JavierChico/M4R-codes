{
 "cells": [
  {
   "cell_type": "code",
   "execution_count": 1,
   "id": "ce5bd731",
   "metadata": {},
   "outputs": [],
   "source": [
    "import sympy as sp"
   ]
  },
  {
   "cell_type": "code",
   "execution_count": 18,
   "id": "1437b9c9",
   "metadata": {},
   "outputs": [],
   "source": [
    "epsilon, z,t, alpha, V, Ma,r,p = sp.symbols('epsilon, z,t, alpha, V, Ma,r,p', real=True)"
   ]
  },
  {
   "cell_type": "code",
   "execution_count": 57,
   "id": "d6473423",
   "metadata": {},
   "outputs": [],
   "source": [
    "S = sp.Function('S')(z,t)\n",
    "p = 1/S-Ma/S**2-epsilon**2*S.diff(z).diff(z)\n",
    "#p = sp.Function('p')(z)"
   ]
  },
  {
   "cell_type": "code",
   "execution_count": 58,
   "id": "af656fc1",
   "metadata": {},
   "outputs": [],
   "source": [
    "w_0 = -1/4*(p.diff(z)-1)*(alpha**2-S**2+2*S**2*sp.log(S/alpha))\n",
    "w = w_0+V\n",
    "u = 1/S*((S**2*(p.diff(z) - 1)).diff(z)/8*(alpha**2 - S**2 + 2*S**2*sp.log(S/alpha)))-p.diff(z).diff(z)/16/S*(alpha**2-S**2)**2\n",
    "\n",
    "\n"
   ]
  },
  {
   "cell_type": "code",
   "execution_count": 59,
   "id": "23be7353",
   "metadata": {},
   "outputs": [
    {
     "data": {
      "text/latex": [
       "$\\displaystyle - \\frac{2 Ma \\alpha^{4} \\frac{\\partial^{2}}{\\partial z^{2}} S{\\left(z,t \\right)}}{S^{3}{\\left(z,t \\right)}} + \\frac{6 Ma \\alpha^{4} \\left(\\frac{\\partial}{\\partial z} S{\\left(z,t \\right)}\\right)^{2}}{S^{4}{\\left(z,t \\right)}} + \\frac{8 Ma \\alpha^{2} \\frac{\\partial^{2}}{\\partial z^{2}} S{\\left(z,t \\right)}}{S{\\left(z,t \\right)}} - \\frac{8.0 Ma \\alpha^{2} \\left(\\frac{\\partial}{\\partial z} S{\\left(z,t \\right)}\\right)^{2}}{S^{2}{\\left(z,t \\right)}} + 8 Ma S{\\left(z,t \\right)} \\log{\\left(\\frac{S{\\left(z,t \\right)}}{\\alpha} \\right)} \\frac{\\partial^{2}}{\\partial z^{2}} S{\\left(z,t \\right)} - 6 Ma S{\\left(z,t \\right)} \\frac{\\partial^{2}}{\\partial z^{2}} S{\\left(z,t \\right)} + 8.0 Ma \\log{\\left(\\frac{S{\\left(z,t \\right)}}{\\alpha} \\right)} \\left(\\frac{\\partial}{\\partial z} S{\\left(z,t \\right)}\\right)^{2} + 2.0 Ma \\left(\\frac{\\partial}{\\partial z} S{\\left(z,t \\right)}\\right)^{2} - 16 V S{\\left(z,t \\right)} \\frac{\\partial}{\\partial z} S{\\left(z,t \\right)} + \\alpha^{4} \\epsilon^{2} \\frac{\\partial^{4}}{\\partial z^{4}} S{\\left(z,t \\right)} + \\frac{\\alpha^{4} \\frac{\\partial^{2}}{\\partial z^{2}} S{\\left(z,t \\right)}}{S^{2}{\\left(z,t \\right)}} - \\frac{2 \\alpha^{4} \\left(\\frac{\\partial}{\\partial z} S{\\left(z,t \\right)}\\right)^{2}}{S^{3}{\\left(z,t \\right)}} - 4 \\alpha^{2} \\epsilon^{2} S^{2}{\\left(z,t \\right)} \\frac{\\partial^{4}}{\\partial z^{4}} S{\\left(z,t \\right)} - 8.0 \\alpha^{2} \\epsilon^{2} S{\\left(z,t \\right)} \\frac{\\partial}{\\partial z} S{\\left(z,t \\right)} \\frac{\\partial^{3}}{\\partial z^{3}} S{\\left(z,t \\right)} - 8.0 \\alpha^{2} S{\\left(z,t \\right)} \\frac{\\partial}{\\partial z} S{\\left(z,t \\right)} - 4 \\alpha^{2} \\frac{\\partial^{2}}{\\partial z^{2}} S{\\left(z,t \\right)} - 4 \\epsilon^{2} S^{4}{\\left(z,t \\right)} \\log{\\left(\\frac{S{\\left(z,t \\right)}}{\\alpha} \\right)} \\frac{\\partial^{4}}{\\partial z^{4}} S{\\left(z,t \\right)} + 3 \\epsilon^{2} S^{4}{\\left(z,t \\right)} \\frac{\\partial^{4}}{\\partial z^{4}} S{\\left(z,t \\right)} - 16.0 \\epsilon^{2} S^{3}{\\left(z,t \\right)} \\log{\\left(\\frac{S{\\left(z,t \\right)}}{\\alpha} \\right)} \\frac{\\partial}{\\partial z} S{\\left(z,t \\right)} \\frac{\\partial^{3}}{\\partial z^{3}} S{\\left(z,t \\right)} + 8.0 \\epsilon^{2} S^{3}{\\left(z,t \\right)} \\frac{\\partial}{\\partial z} S{\\left(z,t \\right)} \\frac{\\partial^{3}}{\\partial z^{3}} S{\\left(z,t \\right)} - 16.0 S^{3}{\\left(z,t \\right)} \\log{\\left(\\frac{S{\\left(z,t \\right)}}{\\alpha} \\right)} \\frac{\\partial}{\\partial z} S{\\left(z,t \\right)} + 8.0 S^{3}{\\left(z,t \\right)} \\frac{\\partial}{\\partial z} S{\\left(z,t \\right)} - 4 S^{2}{\\left(z,t \\right)} \\log{\\left(\\frac{S{\\left(z,t \\right)}}{\\alpha} \\right)} \\frac{\\partial^{2}}{\\partial z^{2}} S{\\left(z,t \\right)} + 3 S^{2}{\\left(z,t \\right)} \\frac{\\partial^{2}}{\\partial z^{2}} S{\\left(z,t \\right)} - 8.0 S{\\left(z,t \\right)} \\log{\\left(\\frac{S{\\left(z,t \\right)}}{\\alpha} \\right)} \\left(\\frac{\\partial}{\\partial z} S{\\left(z,t \\right)}\\right)^{2} + 2.0 S{\\left(z,t \\right)} \\left(\\frac{\\partial}{\\partial z} S{\\left(z,t \\right)}\\right)^{2}$"
      ],
      "text/plain": [
       "-2*Ma*alpha**4*Derivative(S(z, t), (z, 2))/S(z, t)**3 + 6*Ma*alpha**4*Derivative(S(z, t), z)**2/S(z, t)**4 + 8*Ma*alpha**2*Derivative(S(z, t), (z, 2))/S(z, t) - 8.0*Ma*alpha**2*Derivative(S(z, t), z)**2/S(z, t)**2 + 8*Ma*S(z, t)*log(S(z, t)/alpha)*Derivative(S(z, t), (z, 2)) - 6*Ma*S(z, t)*Derivative(S(z, t), (z, 2)) + 8.0*Ma*log(S(z, t)/alpha)*Derivative(S(z, t), z)**2 + 2.0*Ma*Derivative(S(z, t), z)**2 - 16*V*S(z, t)*Derivative(S(z, t), z) + alpha**4*epsilon**2*Derivative(S(z, t), (z, 4)) + alpha**4*Derivative(S(z, t), (z, 2))/S(z, t)**2 - 2*alpha**4*Derivative(S(z, t), z)**2/S(z, t)**3 - 4*alpha**2*epsilon**2*S(z, t)**2*Derivative(S(z, t), (z, 4)) - 8.0*alpha**2*epsilon**2*S(z, t)*Derivative(S(z, t), z)*Derivative(S(z, t), (z, 3)) - 8.0*alpha**2*S(z, t)*Derivative(S(z, t), z) - 4*alpha**2*Derivative(S(z, t), (z, 2)) - 4*epsilon**2*S(z, t)**4*log(S(z, t)/alpha)*Derivative(S(z, t), (z, 4)) + 3*epsilon**2*S(z, t)**4*Derivative(S(z, t), (z, 4)) - 16.0*epsilon**2*S(z, t)**3*log(S(z, t)/alpha)*Derivative(S(z, t), z)*Derivative(S(z, t), (z, 3)) + 8.0*epsilon**2*S(z, t)**3*Derivative(S(z, t), z)*Derivative(S(z, t), (z, 3)) - 16.0*S(z, t)**3*log(S(z, t)/alpha)*Derivative(S(z, t), z) + 8.0*S(z, t)**3*Derivative(S(z, t), z) - 4*S(z, t)**2*log(S(z, t)/alpha)*Derivative(S(z, t), (z, 2)) + 3*S(z, t)**2*Derivative(S(z, t), (z, 2)) - 8.0*S(z, t)*log(S(z, t)/alpha)*Derivative(S(z, t), z)**2 + 2.0*S(z, t)*Derivative(S(z, t), z)**2"
      ]
     },
     "execution_count": 59,
     "metadata": {},
     "output_type": "execute_result"
    }
   ],
   "source": [
    "sp.expand(16*S*(u-w*S.diff(z)))"
   ]
  },
  {
   "cell_type": "code",
   "execution_count": 60,
   "id": "707cd854",
   "metadata": {},
   "outputs": [
    {
     "data": {
      "text/latex": [
       "$\\displaystyle - \\frac{2 Ma \\alpha^{4} \\frac{\\partial^{2}}{\\partial z^{2}} S{\\left(z,t \\right)}}{S^{3}{\\left(z,t \\right)}} + \\frac{6 Ma \\alpha^{4} \\left(\\frac{\\partial}{\\partial z} S{\\left(z,t \\right)}\\right)^{2}}{S^{4}{\\left(z,t \\right)}} + \\frac{8 Ma \\alpha^{2} \\frac{\\partial^{2}}{\\partial z^{2}} S{\\left(z,t \\right)}}{S{\\left(z,t \\right)}} - \\frac{8 Ma \\alpha^{2} \\left(\\frac{\\partial}{\\partial z} S{\\left(z,t \\right)}\\right)^{2}}{S^{2}{\\left(z,t \\right)}} + 8 Ma S{\\left(z,t \\right)} \\log{\\left(\\frac{S{\\left(z,t \\right)}}{\\alpha} \\right)} \\frac{\\partial^{2}}{\\partial z^{2}} S{\\left(z,t \\right)} - 6 Ma S{\\left(z,t \\right)} \\frac{\\partial^{2}}{\\partial z^{2}} S{\\left(z,t \\right)} + 8 Ma \\log{\\left(\\frac{S{\\left(z,t \\right)}}{\\alpha} \\right)} \\left(\\frac{\\partial}{\\partial z} S{\\left(z,t \\right)}\\right)^{2} + 2 Ma \\left(\\frac{\\partial}{\\partial z} S{\\left(z,t \\right)}\\right)^{2} + \\alpha^{4} \\epsilon^{2} \\frac{\\partial^{4}}{\\partial z^{4}} S{\\left(z,t \\right)} + \\frac{\\alpha^{4} \\frac{\\partial^{2}}{\\partial z^{2}} S{\\left(z,t \\right)}}{S^{2}{\\left(z,t \\right)}} - \\frac{2 \\alpha^{4} \\left(\\frac{\\partial}{\\partial z} S{\\left(z,t \\right)}\\right)^{2}}{S^{3}{\\left(z,t \\right)}} - 4 \\alpha^{2} \\epsilon^{2} S^{2}{\\left(z,t \\right)} \\frac{\\partial^{4}}{\\partial z^{4}} S{\\left(z,t \\right)} - 8 \\alpha^{2} \\epsilon^{2} S{\\left(z,t \\right)} \\frac{\\partial}{\\partial z} S{\\left(z,t \\right)} \\frac{\\partial^{3}}{\\partial z^{3}} S{\\left(z,t \\right)} - 8 \\alpha^{2} S{\\left(z,t \\right)} \\frac{\\partial}{\\partial z} S{\\left(z,t \\right)} - 4 \\alpha^{2} \\frac{\\partial^{2}}{\\partial z^{2}} S{\\left(z,t \\right)} - 4 \\epsilon^{2} S^{4}{\\left(z,t \\right)} \\log{\\left(\\frac{S{\\left(z,t \\right)}}{\\alpha} \\right)} \\frac{\\partial^{4}}{\\partial z^{4}} S{\\left(z,t \\right)} + 3 \\epsilon^{2} S^{4}{\\left(z,t \\right)} \\frac{\\partial^{4}}{\\partial z^{4}} S{\\left(z,t \\right)} - 16 \\epsilon^{2} S^{3}{\\left(z,t \\right)} \\log{\\left(\\frac{S{\\left(z,t \\right)}}{\\alpha} \\right)} \\frac{\\partial}{\\partial z} S{\\left(z,t \\right)} \\frac{\\partial^{3}}{\\partial z^{3}} S{\\left(z,t \\right)} + 8 \\epsilon^{2} S^{3}{\\left(z,t \\right)} \\frac{\\partial}{\\partial z} S{\\left(z,t \\right)} \\frac{\\partial^{3}}{\\partial z^{3}} S{\\left(z,t \\right)} - 16 S^{3}{\\left(z,t \\right)} \\log{\\left(\\frac{S{\\left(z,t \\right)}}{\\alpha} \\right)} \\frac{\\partial}{\\partial z} S{\\left(z,t \\right)} + 8 S^{3}{\\left(z,t \\right)} \\frac{\\partial}{\\partial z} S{\\left(z,t \\right)} - 4 S^{2}{\\left(z,t \\right)} \\log{\\left(\\frac{S{\\left(z,t \\right)}}{\\alpha} \\right)} \\frac{\\partial^{2}}{\\partial z^{2}} S{\\left(z,t \\right)} + 3 S^{2}{\\left(z,t \\right)} \\frac{\\partial^{2}}{\\partial z^{2}} S{\\left(z,t \\right)} - 8 S{\\left(z,t \\right)} \\log{\\left(\\frac{S{\\left(z,t \\right)}}{\\alpha} \\right)} \\left(\\frac{\\partial}{\\partial z} S{\\left(z,t \\right)}\\right)^{2} + 2 S{\\left(z,t \\right)} \\left(\\frac{\\partial}{\\partial z} S{\\left(z,t \\right)}\\right)^{2}$"
      ],
      "text/plain": [
       "-2*Ma*alpha**4*Derivative(S(z, t), (z, 2))/S(z, t)**3 + 6*Ma*alpha**4*Derivative(S(z, t), z)**2/S(z, t)**4 + 8*Ma*alpha**2*Derivative(S(z, t), (z, 2))/S(z, t) - 8*Ma*alpha**2*Derivative(S(z, t), z)**2/S(z, t)**2 + 8*Ma*S(z, t)*log(S(z, t)/alpha)*Derivative(S(z, t), (z, 2)) - 6*Ma*S(z, t)*Derivative(S(z, t), (z, 2)) + 8*Ma*log(S(z, t)/alpha)*Derivative(S(z, t), z)**2 + 2*Ma*Derivative(S(z, t), z)**2 + alpha**4*epsilon**2*Derivative(S(z, t), (z, 4)) + alpha**4*Derivative(S(z, t), (z, 2))/S(z, t)**2 - 2*alpha**4*Derivative(S(z, t), z)**2/S(z, t)**3 - 4*alpha**2*epsilon**2*S(z, t)**2*Derivative(S(z, t), (z, 4)) - 8*alpha**2*epsilon**2*S(z, t)*Derivative(S(z, t), z)*Derivative(S(z, t), (z, 3)) - 8*alpha**2*S(z, t)*Derivative(S(z, t), z) - 4*alpha**2*Derivative(S(z, t), (z, 2)) - 4*epsilon**2*S(z, t)**4*log(S(z, t)/alpha)*Derivative(S(z, t), (z, 4)) + 3*epsilon**2*S(z, t)**4*Derivative(S(z, t), (z, 4)) - 16*epsilon**2*S(z, t)**3*log(S(z, t)/alpha)*Derivative(S(z, t), z)*Derivative(S(z, t), (z, 3)) + 8*epsilon**2*S(z, t)**3*Derivative(S(z, t), z)*Derivative(S(z, t), (z, 3)) - 16*S(z, t)**3*log(S(z, t)/alpha)*Derivative(S(z, t), z) + 8*S(z, t)**3*Derivative(S(z, t), z) - 4*S(z, t)**2*log(S(z, t)/alpha)*Derivative(S(z, t), (z, 2)) + 3*S(z, t)**2*Derivative(S(z, t), (z, 2)) - 8*S(z, t)*log(S(z, t)/alpha)*Derivative(S(z, t), z)**2 + 2*S(z, t)*Derivative(S(z, t), z)**2"
      ]
     },
     "execution_count": 60,
     "metadata": {},
     "output_type": "execute_result"
    }
   ],
   "source": [
    "sp.expand(((p.diff(z)-1)*(2*S**2*(alpha**2-S**2+2*S**2*sp.log(S/alpha))-(alpha**2-S**2)**2)).diff(z))"
   ]
  },
  {
   "cell_type": "code",
   "execution_count": 61,
   "id": "e468a493",
   "metadata": {},
   "outputs": [
    {
     "data": {
      "text/latex": [
       "$\\displaystyle 0$"
      ],
      "text/plain": [
       "0"
      ]
     },
     "execution_count": 61,
     "metadata": {},
     "output_type": "execute_result"
    }
   ],
   "source": [
    "sp.simplify(16*S*(u-w*S.diff(z))-((p.diff(z)-1)*(2*S**2*(alpha**2-S**2+2*S**2*sp.log(S/alpha))-(alpha**2-S**2)**2)-8*V*S**2).diff(z))"
   ]
  },
  {
   "cell_type": "code",
   "execution_count": 67,
   "id": "196b1b8a",
   "metadata": {},
   "outputs": [
    {
     "data": {
      "text/latex": [
       "$\\displaystyle 16 \\left(\\alpha + \\eta{\\left(z,t \\right)}\\right) \\frac{\\partial}{\\partial t} \\eta{\\left(z,t \\right)}$"
      ],
      "text/plain": [
       "16*(alpha + eta(z, t))*Derivative(eta(z, t), t)"
      ]
     },
     "execution_count": 67,
     "metadata": {},
     "output_type": "execute_result"
    }
   ],
   "source": [
    "# expansion\n",
    "eta = sp.Function('eta')(z,t)\n",
    "S = eta+alpha\n",
    "p = 1/S-Ma/S**2-epsilon**2*S.diff(z).diff(z)\n",
    "RHS = ((p.diff(z)-1)*(2*S**2*(alpha**2-S**2+2*S**2*sp.log(S/alpha))-(alpha**2-S**2)**2)-8*V*S**2).diff(z).subs(V,0)\n",
    "LHS = 8*(S**2).diff(t)\n",
    "LHS"
   ]
  },
  {
   "cell_type": "code",
   "execution_count": 76,
   "id": "4635bd91",
   "metadata": {},
   "outputs": [
    {
     "data": {
      "text/latex": [
       "$\\displaystyle O\\left(\\eta{\\left(z,t \\right)}; \\left( t, \\  z\\right)\\rightarrow \\left( 0, \\  0\\right)\\right)$"
      ],
      "text/plain": [
       "O(eta(z, t), t, z)"
      ]
     },
     "execution_count": 76,
     "metadata": {},
     "output_type": "execute_result"
    }
   ],
   "source": [
    "RHS_pre_diff = (p.diff(z)-1)*(2*S**2*(alpha**2-S**2+2*S**2*sp.log(S/alpha))-(alpha**2-S**2)**2)-8*V*S**2\n",
    "sp.series(RHS_pre_diff, eta, 0, 1)"
   ]
  },
  {
   "cell_type": "code",
   "execution_count": 75,
   "id": "98779e98",
   "metadata": {},
   "outputs": [
    {
     "data": {
      "text/latex": [
       "$\\displaystyle - 8 V \\left(\\alpha + \\eta{\\left(z,t \\right)}\\right)^{2} + \\left(2 \\left(\\alpha + \\eta{\\left(z,t \\right)}\\right)^{2} \\left(\\alpha^{2} + 2 \\left(\\alpha + \\eta{\\left(z,t \\right)}\\right)^{2} \\log{\\left(\\frac{\\alpha + \\eta{\\left(z,t \\right)}}{\\alpha} \\right)} - \\left(\\alpha + \\eta{\\left(z,t \\right)}\\right)^{2}\\right) - \\left(\\alpha^{2} - \\left(\\alpha + \\eta{\\left(z,t \\right)}\\right)^{2}\\right)^{2}\\right) \\left(\\frac{2 Ma \\frac{\\partial}{\\partial z} \\eta{\\left(z,t \\right)}}{\\left(\\alpha + \\eta{\\left(z,t \\right)}\\right)^{3}} - \\epsilon^{2} \\frac{\\partial^{3}}{\\partial z^{3}} \\eta{\\left(z,t \\right)} - 1 - \\frac{\\frac{\\partial}{\\partial z} \\eta{\\left(z,t \\right)}}{\\left(\\alpha + \\eta{\\left(z,t \\right)}\\right)^{2}}\\right)$"
      ],
      "text/plain": [
       "-8*V*(alpha + eta(z, t))**2 + (2*(alpha + eta(z, t))**2*(alpha**2 + 2*(alpha + eta(z, t))**2*log((alpha + eta(z, t))/alpha) - (alpha + eta(z, t))**2) - (alpha**2 - (alpha + eta(z, t))**2)**2)*(2*Ma*Derivative(eta(z, t), z)/(alpha + eta(z, t))**3 - epsilon**2*Derivative(eta(z, t), (z, 3)) - 1 - Derivative(eta(z, t), z)/(alpha + eta(z, t))**2)"
      ]
     },
     "execution_count": 75,
     "metadata": {},
     "output_type": "execute_result"
    }
   ],
   "source": [
    "RHS_pre_diff"
   ]
  },
  {
   "cell_type": "code",
   "execution_count": null,
   "id": "ee2827b0",
   "metadata": {},
   "outputs": [],
   "source": []
  }
 ],
 "metadata": {
  "kernelspec": {
   "display_name": "Python 3 (ipykernel)",
   "language": "python",
   "name": "python3"
  },
  "language_info": {
   "codemirror_mode": {
    "name": "ipython",
    "version": 3
   },
   "file_extension": ".py",
   "mimetype": "text/x-python",
   "name": "python",
   "nbconvert_exporter": "python",
   "pygments_lexer": "ipython3",
   "version": "3.9.7"
  }
 },
 "nbformat": 4,
 "nbformat_minor": 5
}

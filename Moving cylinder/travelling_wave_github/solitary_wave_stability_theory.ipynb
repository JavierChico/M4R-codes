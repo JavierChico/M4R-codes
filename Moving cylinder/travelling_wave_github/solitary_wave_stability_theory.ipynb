{
 "cells": [
  {
   "cell_type": "code",
   "execution_count": 1,
   "id": "dc1c0db3",
   "metadata": {},
   "outputs": [],
   "source": [
    "import sympy as sp"
   ]
  },
  {
   "cell_type": "code",
   "execution_count": 25,
   "id": "7fc4867f",
   "metadata": {},
   "outputs": [],
   "source": [
    "z,t,c,epsilon,delta,D,eta_0,lambda_, k = sp.symbols('z,t,c,epsilon,delta,D,eta_0, lambda_,k')"
   ]
  },
  {
   "cell_type": "code",
   "execution_count": 29,
   "id": "ea42f172",
   "metadata": {},
   "outputs": [],
   "source": [
    "y = sp.exp(sp.I*k*z+lambda_*t)\n",
    "#xi = z-c*t\n",
    "eta_0 = sp.Function('eta_0')(z-c*t)\n",
    "eta = eta_0 + y*delta"
   ]
  },
  {
   "cell_type": "code",
   "execution_count": 30,
   "id": "043d94b3",
   "metadata": {},
   "outputs": [],
   "source": [
    "eq = eta.diff(t)+(eta**3*(1+D*eta.diff(z)+epsilon**2*eta.diff(z).diff(z).diff(z))).diff(z)/3"
   ]
  },
  {
   "cell_type": "code",
   "execution_count": 31,
   "id": "dcc73f7a",
   "metadata": {},
   "outputs": [
    {
     "data": {
      "text/latex": [
       "$\\displaystyle \\eta_{0}^{2}{\\left(- c t + z \\right)} \\left. \\frac{d}{d \\xi_{1}} \\eta_{0}{\\left(\\xi_{1} \\right)} \\right|_{\\substack{ \\xi_{1}=- c t + z }} + \\epsilon^{2} \\eta_{0}^{2}{\\left(- c t + z \\right)} \\left. \\frac{d}{d \\xi_{1}} \\eta_{0}{\\left(\\xi_{1} \\right)} \\right|_{\\substack{ \\xi_{1}=- c t + z }} \\left. \\frac{d^{3}}{d \\xi_{1}^{3}} \\eta_{0}{\\left(\\xi_{1} \\right)} \\right|_{\\substack{ \\xi_{1}=- c t + z }} + \\frac{\\epsilon^{2} \\eta_{0}^{3}{\\left(- c t + z \\right)} \\left. \\frac{d^{4}}{d \\xi_{1}^{4}} \\eta_{0}{\\left(\\xi_{1} \\right)} \\right|_{\\substack{ \\xi_{1}=- c t + z }}}{3} + \\delta \\left(- \\frac{D k^{2} \\eta_{0}^{3}{\\left(- c t + z \\right)} e^{i k z + \\lambda_{} t}}{3} + 2 i D k \\eta_{0}^{2}{\\left(- c t + z \\right)} e^{i k z + \\lambda_{} t} \\left. \\frac{d}{d \\xi_{1}} \\eta_{0}{\\left(\\xi_{1} \\right)} \\right|_{\\substack{ \\xi_{1}=- c t + z }} + D \\eta_{0}^{2}{\\left(- c t + z \\right)} e^{i k z + \\lambda_{} t} \\left. \\frac{d^{2}}{d \\xi_{1}^{2}} \\eta_{0}{\\left(\\xi_{1} \\right)} \\right|_{\\substack{ \\xi_{1}=- c t + z }} + 2 D \\eta_{0}{\\left(- c t + z \\right)} e^{i k z + \\lambda_{} t} \\left. \\frac{d}{d \\xi_{1}} \\eta_{0}{\\left(\\xi_{1} \\right)} \\right|_{\\substack{ \\xi_{1}=- c t + z }}^{2} + \\frac{\\epsilon^{2} k^{4} \\eta_{0}^{3}{\\left(- c t + z \\right)} e^{i k z + \\lambda_{} t}}{3} - i \\epsilon^{2} k^{3} \\eta_{0}^{2}{\\left(- c t + z \\right)} e^{i k z + \\lambda_{} t} \\left. \\frac{d}{d \\xi_{1}} \\eta_{0}{\\left(\\xi_{1} \\right)} \\right|_{\\substack{ \\xi_{1}=- c t + z }} + i \\epsilon^{2} k \\eta_{0}^{2}{\\left(- c t + z \\right)} e^{i k z + \\lambda_{} t} \\left. \\frac{d^{3}}{d \\xi_{1}^{3}} \\eta_{0}{\\left(\\xi_{1} \\right)} \\right|_{\\substack{ \\xi_{1}=- c t + z }} + \\epsilon^{2} \\eta_{0}^{2}{\\left(- c t + z \\right)} e^{i k z + \\lambda_{} t} \\left. \\frac{d^{4}}{d \\xi_{1}^{4}} \\eta_{0}{\\left(\\xi_{1} \\right)} \\right|_{\\substack{ \\xi_{1}=- c t + z }} + 2 \\epsilon^{2} \\eta_{0}{\\left(- c t + z \\right)} e^{i k z + \\lambda_{} t} \\left. \\frac{d}{d \\xi_{1}} \\eta_{0}{\\left(\\xi_{1} \\right)} \\right|_{\\substack{ \\xi_{1}=- c t + z }} \\left. \\frac{d^{3}}{d \\xi_{1}^{3}} \\eta_{0}{\\left(\\xi_{1} \\right)} \\right|_{\\substack{ \\xi_{1}=- c t + z }} + i k \\eta_{0}^{2}{\\left(- c t + z \\right)} e^{i k z + \\lambda_{} t} + \\lambda_{} e^{i k z + \\lambda_{} t} + 2 \\eta_{0}{\\left(- c t + z \\right)} e^{i k z + \\lambda_{} t} \\left. \\frac{d}{d \\xi_{1}} \\eta_{0}{\\left(\\xi_{1} \\right)} \\right|_{\\substack{ \\xi_{1}=- c t + z }}\\right) - c \\left. \\frac{d}{d \\xi_{1}} \\eta_{0}{\\left(\\xi_{1} \\right)} \\right|_{\\substack{ \\xi_{1}=- c t + z }} + D \\eta_{0}^{2}{\\left(- c t + z \\right)} \\left. \\frac{d}{d \\xi_{1}} \\eta_{0}{\\left(\\xi_{1} \\right)} \\right|_{\\substack{ \\xi_{1}=- c t + z }}^{2} + \\frac{D \\eta_{0}^{3}{\\left(- c t + z \\right)} \\left. \\frac{d^{2}}{d \\xi_{1}^{2}} \\eta_{0}{\\left(\\xi_{1} \\right)} \\right|_{\\substack{ \\xi_{1}=- c t + z }}}{3} + O\\left(\\delta^{2}\\right)$"
      ],
      "text/plain": [
       "eta_0(-c*t + z)**2*Subs(Derivative(eta_0(_xi_1), _xi_1), _xi_1, -c*t + z) + epsilon**2*eta_0(-c*t + z)**2*Subs(Derivative(eta_0(_xi_1), _xi_1), _xi_1, -c*t + z)*Subs(Derivative(eta_0(_xi_1), (_xi_1, 3)), _xi_1, -c*t + z) + epsilon**2*eta_0(-c*t + z)**3*Subs(Derivative(eta_0(_xi_1), (_xi_1, 4)), _xi_1, -c*t + z)/3 + delta*(-D*k**2*eta_0(-c*t + z)**3*exp(I*k*z + lambda_*t)/3 + 2*I*D*k*eta_0(-c*t + z)**2*exp(I*k*z + lambda_*t)*Subs(Derivative(eta_0(_xi_1), _xi_1), _xi_1, -c*t + z) + D*eta_0(-c*t + z)**2*exp(I*k*z + lambda_*t)*Subs(Derivative(eta_0(_xi_1), (_xi_1, 2)), _xi_1, -c*t + z) + 2*D*eta_0(-c*t + z)*exp(I*k*z + lambda_*t)*Subs(Derivative(eta_0(_xi_1), _xi_1), _xi_1, -c*t + z)**2 + epsilon**2*k**4*eta_0(-c*t + z)**3*exp(I*k*z + lambda_*t)/3 - I*epsilon**2*k**3*eta_0(-c*t + z)**2*exp(I*k*z + lambda_*t)*Subs(Derivative(eta_0(_xi_1), _xi_1), _xi_1, -c*t + z) + I*epsilon**2*k*eta_0(-c*t + z)**2*exp(I*k*z + lambda_*t)*Subs(Derivative(eta_0(_xi_1), (_xi_1, 3)), _xi_1, -c*t + z) + epsilon**2*eta_0(-c*t + z)**2*exp(I*k*z + lambda_*t)*Subs(Derivative(eta_0(_xi_1), (_xi_1, 4)), _xi_1, -c*t + z) + 2*epsilon**2*eta_0(-c*t + z)*exp(I*k*z + lambda_*t)*Subs(Derivative(eta_0(_xi_1), _xi_1), _xi_1, -c*t + z)*Subs(Derivative(eta_0(_xi_1), (_xi_1, 3)), _xi_1, -c*t + z) + I*k*eta_0(-c*t + z)**2*exp(I*k*z + lambda_*t) + lambda_*exp(I*k*z + lambda_*t) + 2*eta_0(-c*t + z)*exp(I*k*z + lambda_*t)*Subs(Derivative(eta_0(_xi_1), _xi_1), _xi_1, -c*t + z)) - c*Subs(Derivative(eta_0(_xi_1), _xi_1), _xi_1, -c*t + z) + D*eta_0(-c*t + z)**2*Subs(Derivative(eta_0(_xi_1), _xi_1), _xi_1, -c*t + z)**2 + D*eta_0(-c*t + z)**3*Subs(Derivative(eta_0(_xi_1), (_xi_1, 2)), _xi_1, -c*t + z)/3 + O(delta**2)"
      ]
     },
     "execution_count": 31,
     "metadata": {},
     "output_type": "execute_result"
    }
   ],
   "source": [
    "sp.series(eq, delta, 0,2)#-sp.series(eq, delta, 0,1)"
   ]
  },
  {
   "cell_type": "code",
   "execution_count": null,
   "id": "51fa50db",
   "metadata": {},
   "outputs": [],
   "source": []
  }
 ],
 "metadata": {
  "kernelspec": {
   "display_name": "Python 3 (ipykernel)",
   "language": "python",
   "name": "python3"
  },
  "language_info": {
   "codemirror_mode": {
    "name": "ipython",
    "version": 3
   },
   "file_extension": ".py",
   "mimetype": "text/x-python",
   "name": "python",
   "nbconvert_exporter": "python",
   "pygments_lexer": "ipython3",
   "version": "3.9.7"
  }
 },
 "nbformat": 4,
 "nbformat_minor": 5
}

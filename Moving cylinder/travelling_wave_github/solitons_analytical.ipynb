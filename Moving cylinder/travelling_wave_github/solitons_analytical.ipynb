{
 "cells": [
  {
   "cell_type": "code",
   "execution_count": 3,
   "id": "db0957f2",
   "metadata": {},
   "outputs": [],
   "source": [
    "import sympy as sp\n",
    "xi, a, c, F,f,r,D,epsilon,lambda_ = sp.symbols('xi, a, c, F, f, r, D, epsilon,lambda_', real=True)"
   ]
  },
  {
   "cell_type": "code",
   "execution_count": 86,
   "id": "a9a01670",
   "metadata": {},
   "outputs": [
    {
     "data": {
      "text/latex": [
       "$\\displaystyle f \\left(- c + \\frac{f^{2}}{3}\\right)$"
      ],
      "text/plain": [
       "f*(-c + f**2/3)"
      ]
     },
     "execution_count": 86,
     "metadata": {},
     "output_type": "execute_result"
    }
   ],
   "source": [
    "a_1,a_2,a_3,a_4,a_5 = sp.symbols('a_1,a_2,a_3,a_4,a_5', real=True) \n",
    "sigma = sp.symbols('sigma', positive=True)\n",
    "eta = F + a_2*xi**2 + a_3*xi**3 + a_4*xi**4 + a_5*xi**5\n",
    "C_1 = f*(f**2/3-c)\n",
    "C_1"
   ]
  },
  {
   "cell_type": "code",
   "execution_count": 62,
   "id": "3ac30054",
   "metadata": {},
   "outputs": [
    {
     "data": {
      "text/latex": [
       "$\\displaystyle - c \\left(F + a_{2} \\xi^{2} + a_{3} \\xi^{3} + a_{4} \\xi^{4} + a_{5} \\xi^{5}\\right) - f \\left(- c + \\frac{f^{2}}{3}\\right) + \\frac{\\left(D \\left(2 a_{2} \\xi + 3 a_{3} \\xi^{2} + 4 a_{4} \\xi^{3} + 5 a_{5} \\xi^{4}\\right) + \\epsilon^{2} \\left(6 a_{3} + 24 a_{4} \\xi + 60 a_{5} \\xi^{2}\\right) + 1\\right) \\left(F + a_{2} \\xi^{2} + a_{3} \\xi^{3} + a_{4} \\xi^{4} + a_{5} \\xi^{5}\\right)^{3}}{3}$"
      ],
      "text/plain": [
       "-c*(F + a_2*xi**2 + a_3*xi**3 + a_4*xi**4 + a_5*xi**5) - f*(-c + f**2/3) + (D*(2*a_2*xi + 3*a_3*xi**2 + 4*a_4*xi**3 + 5*a_5*xi**4) + epsilon**2*(6*a_3 + 24*a_4*xi + 60*a_5*xi**2) + 1)*(F + a_2*xi**2 + a_3*xi**3 + a_4*xi**4 + a_5*xi**5)**3/3"
      ]
     },
     "execution_count": 62,
     "metadata": {},
     "output_type": "execute_result"
    }
   ],
   "source": [
    "eq = -c*eta+eta**3/3*(1+D*eta.diff(xi)+epsilon**2*eta.diff(xi).diff(xi).diff(xi))-C_1\n",
    "eq"
   ]
  },
  {
   "cell_type": "code",
   "execution_count": 65,
   "id": "7002bd08",
   "metadata": {},
   "outputs": [
    {
     "data": {
      "text/latex": [
       "$\\displaystyle \\xi \\left(\\frac{2 D F^{3} a_{2}}{3} + 8 F^{3} a_{4} \\epsilon^{2}\\right) + \\xi^{2} \\left(D F^{3} a_{3} + 20 F^{3} a_{5} \\epsilon^{2} + 6 F^{2} a_{2} a_{3} \\epsilon^{2} + F^{2} a_{2} - a_{2} c\\right) + \\xi^{3} \\left(\\frac{4 D F^{3} a_{4}}{3} + 2 D F^{2} a_{2}^{2} + 24 F^{2} a_{2} a_{4} \\epsilon^{2} + 6 F^{2} a_{3}^{2} \\epsilon^{2} + F^{2} a_{3} - a_{3} c\\right) - f \\left(- c + \\frac{f^{2}}{3}\\right) - F c + \\frac{F^{3}}{3} + 2 F^{3} a_{3} \\epsilon^{2} + O\\left(\\xi^{4}\\right)$"
      ],
      "text/plain": [
       "xi*(2*D*F**3*a_2/3 + 8*F**3*a_4*epsilon**2) + xi**2*(D*F**3*a_3 + 20*F**3*a_5*epsilon**2 + 6*F**2*a_2*a_3*epsilon**2 + F**2*a_2 - a_2*c) + xi**3*(4*D*F**3*a_4/3 + 2*D*F**2*a_2**2 + 24*F**2*a_2*a_4*epsilon**2 + 6*F**2*a_3**2*epsilon**2 + F**2*a_3 - a_3*c) - f*(-c + f**2/3) - F*c + F**3/3 + 2*F**3*a_3*epsilon**2 + O(xi**4)"
      ]
     },
     "execution_count": 65,
     "metadata": {},
     "output_type": "execute_result"
    }
   ],
   "source": [
    "sp.series(eq, xi,0,4)"
   ]
  },
  {
   "cell_type": "code",
   "execution_count": 90,
   "id": "c9f92c2f",
   "metadata": {},
   "outputs": [
    {
     "data": {
      "text/latex": [
       "$\\displaystyle - c \\left(f + \\left(F - f\\right) e^{- \\sigma \\xi^{2}}\\right) - f \\left(- c + \\frac{f^{2}}{3}\\right) + \\frac{\\left(f + \\left(F - f\\right) e^{- \\sigma \\xi^{2}}\\right)^{3} \\left(- 2 D \\sigma \\xi \\left(F - f\\right) e^{- \\sigma \\xi^{2}} + \\epsilon^{2} \\left(- 8 \\sigma^{3} \\xi^{3} \\left(F - f\\right) e^{- \\sigma \\xi^{2}} + 12 \\sigma^{2} \\xi \\left(F - f\\right) e^{- \\sigma \\xi^{2}}\\right) + 1\\right)}{3}$"
      ],
      "text/plain": [
       "-c*(f + (F - f)*exp(-sigma*xi**2)) - f*(-c + f**2/3) + (f + (F - f)*exp(-sigma*xi**2))**3*(-2*D*sigma*xi*(F - f)*exp(-sigma*xi**2) + epsilon**2*(-8*sigma**3*xi**3*(F - f)*exp(-sigma*xi**2) + 12*sigma**2*xi*(F - f)*exp(-sigma*xi**2)) + 1)/3"
      ]
     },
     "execution_count": 90,
     "metadata": {},
     "output_type": "execute_result"
    }
   ],
   "source": [
    "a_1,a_2,a_3,a_4,a_5,sigma = sp.symbols('a_1,a_2,a_3,a_4,a_5,sigma', real=True) \n",
    "eta = (F -f)*sp.exp(-sigma*xi**2)+f\n",
    "C_1 = f*(f**2/3-c)\n",
    "eq = -c*eta+eta**3/3*(1+D*eta.diff(xi)+epsilon**2*eta.diff(xi).diff(xi).diff(xi))-C_1\n",
    "eq"
   ]
  },
  {
   "cell_type": "code",
   "execution_count": 92,
   "id": "922f0b87",
   "metadata": {},
   "outputs": [
    {
     "data": {
      "text/latex": [
       "$\\displaystyle \\xi \\left(- \\frac{2 D F^{4} \\sigma}{3} + \\frac{2 D F^{3} f \\sigma}{3} + 4 F^{4} \\epsilon^{2} \\sigma^{2} - 4 F^{3} \\epsilon^{2} f \\sigma^{2}\\right) + \\xi^{2} \\left(\\frac{F^{3} \\left(- 3 \\sigma + \\frac{3 f \\sigma}{F}\\right)}{3} + F c \\sigma - c f \\sigma\\right) + \\xi^{3} \\left(\\frac{2 D F^{4} \\sigma^{2}}{3} - \\frac{2 D F^{4} \\sigma \\left(- 3 \\sigma + \\frac{3 f \\sigma}{F}\\right)}{3} - \\frac{2 D F^{3} f \\sigma^{2}}{3} + \\frac{2 D F^{3} f \\sigma \\left(- 3 \\sigma + \\frac{3 f \\sigma}{F}\\right)}{3} - \\frac{20 F^{4} \\epsilon^{2} \\sigma^{3}}{3} + 4 F^{4} \\epsilon^{2} \\sigma^{2} \\left(- 3 \\sigma + \\frac{3 f \\sigma}{F}\\right) + \\frac{20 F^{3} \\epsilon^{2} f \\sigma^{3}}{3} - 4 F^{3} \\epsilon^{2} f \\sigma^{2} \\left(- 3 \\sigma + \\frac{3 f \\sigma}{F}\\right)\\right) - f \\left(- c + \\frac{f^{2}}{3}\\right) - F c + \\frac{F^{3}}{3} + O\\left(\\xi^{4}\\right)$"
      ],
      "text/plain": [
       "xi*(-2*D*F**4*sigma/3 + 2*D*F**3*f*sigma/3 + 4*F**4*epsilon**2*sigma**2 - 4*F**3*epsilon**2*f*sigma**2) + xi**2*(F**3*(-3*sigma + 3*f*sigma/F)/3 + F*c*sigma - c*f*sigma) + xi**3*(2*D*F**4*sigma**2/3 - 2*D*F**4*sigma*(-3*sigma + 3*f*sigma/F)/3 - 2*D*F**3*f*sigma**2/3 + 2*D*F**3*f*sigma*(-3*sigma + 3*f*sigma/F)/3 - 20*F**4*epsilon**2*sigma**3/3 + 4*F**4*epsilon**2*sigma**2*(-3*sigma + 3*f*sigma/F) + 20*F**3*epsilon**2*f*sigma**3/3 - 4*F**3*epsilon**2*f*sigma**2*(-3*sigma + 3*f*sigma/F)) - f*(-c + f**2/3) - F*c + F**3/3 + O(xi**4)"
      ]
     },
     "execution_count": 92,
     "metadata": {},
     "output_type": "execute_result"
    }
   ],
   "source": [
    "sp.series(eq, xi,0,4)"
   ]
  },
  {
   "cell_type": "code",
   "execution_count": null,
   "id": "ad00978d",
   "metadata": {},
   "outputs": [],
   "source": []
  },
  {
   "cell_type": "code",
   "execution_count": 87,
   "id": "2bf8c6ab",
   "metadata": {},
   "outputs": [
    {
     "data": {
      "text/latex": [
       "$\\displaystyle \\begin{cases} \\frac{\\left(-1\\right)^{a} \\sigma^{\\frac{1}{2} - \\frac{a}{2}} \\Gamma\\left(\\frac{a}{2} + \\frac{1}{2}\\right)}{2 \\sigma} + \\frac{\\sigma^{\\frac{1}{2} - \\frac{a}{2}} \\Gamma\\left(\\frac{a}{2} + \\frac{1}{2}\\right)}{2 \\sigma} & \\text{for}\\: \\frac{a}{2} - \\frac{1}{2} > -1 \\\\\\int\\limits_{-\\infty}^{\\infty} \\xi^{a} e^{- \\sigma \\xi^{2}}\\, d\\xi & \\text{otherwise} \\end{cases}$"
      ],
      "text/plain": [
       "Piecewise(((-1)**a*sigma**(1/2 - a/2)*gamma(a/2 + 1/2)/(2*sigma) + sigma**(1/2 - a/2)*gamma(a/2 + 1/2)/(2*sigma), a/2 - 1/2 > -1), (Integral(xi**a*exp(-sigma*xi**2), (xi, -oo, oo)), True))"
      ]
     },
     "execution_count": 87,
     "metadata": {},
     "output_type": "execute_result"
    }
   ],
   "source": [
    "sp.integrate(xi**a*sp.exp(-sigma*xi**2), (xi,-sp.oo,sp.oo))"
   ]
  },
  {
   "cell_type": "code",
   "execution_count": null,
   "id": "993f3ab2",
   "metadata": {},
   "outputs": [],
   "source": []
  }
 ],
 "metadata": {
  "kernelspec": {
   "display_name": "Python 3 (ipykernel)",
   "language": "python",
   "name": "python3"
  },
  "language_info": {
   "codemirror_mode": {
    "name": "ipython",
    "version": 3
   },
   "file_extension": ".py",
   "mimetype": "text/x-python",
   "name": "python",
   "nbconvert_exporter": "python",
   "pygments_lexer": "ipython3",
   "version": "3.9.7"
  }
 },
 "nbformat": 4,
 "nbformat_minor": 5
}

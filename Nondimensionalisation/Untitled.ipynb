{
 "cells": [
  {
   "cell_type": "code",
   "execution_count": 4,
   "id": "3d9d1fac",
   "metadata": {},
   "outputs": [],
   "source": [
    "import sympy as sp\n"
   ]
  },
  {
   "cell_type": "code",
   "execution_count": 13,
   "id": "3da60c66",
   "metadata": {},
   "outputs": [],
   "source": [
    "rho, R,g, mu, r,z,t,Omega, epsilon, L, sigma = sp.symbols('rho, R,g, mu, r,z,t,Omega, epsilon, L,sigma')"
   ]
  },
  {
   "cell_type": "code",
   "execution_count": 14,
   "id": "f983b255",
   "metadata": {},
   "outputs": [],
   "source": [
    "u = sp.Function('u')(r,z,t); w = sp.Function('w')(r,z,t); p = sp.Function('p')(r,z,t);\n",
    "S = sp.Function('S')(z,t);"
   ]
  },
  {
   "cell_type": "code",
   "execution_count": 17,
   "id": "bca2fbd5",
   "metadata": {},
   "outputs": [
    {
     "data": {
      "text/latex": [
       "$\\displaystyle \\frac{R^{2} g \\rho \\frac{\\partial}{\\partial z} w{\\left(r,z,t \\right)}}{\\mu} + \\frac{\\frac{R^{2} g r \\rho \\frac{\\partial}{\\partial r} u{\\left(r,z,t \\right)}}{\\mu} + \\frac{R^{2} g \\rho u{\\left(r,z,t \\right)}}{\\mu}}{r}$"
      ],
      "text/plain": [
       "R**2*g*rho*Derivative(w(r, z, t), z)/mu + (R**2*g*r*rho*Derivative(u(r, z, t), r)/mu + R**2*g*rho*u(r, z, t)/mu)/r"
      ]
     },
     "execution_count": 17,
     "metadata": {},
     "output_type": "execute_result"
    }
   ],
   "source": [
    "# continuity\n",
    "rho, R,g, mu, r,z,t,Omega, epsilon, L, sigma = sp.symbols('rho, R,g, mu, r,z,t,Omega, epsilon, L,sigma')\n",
    "u = sp.Function('u')(r,z,t); w = sp.Function('w')(r,z,t); p = sp.Function('p')(r,z,t);\n",
    "S = sp.Function('S')(z,t);\n",
    "\n",
    "V = rho*R**2*g/mu\n",
    "u = V*u; w= V*w; \n",
    "\n",
    "cont = 1/r*(r*u).diff(r)+w.diff(z)\n",
    "cont"
   ]
  },
  {
   "cell_type": "code",
   "execution_count": null,
   "id": "77d05f06",
   "metadata": {},
   "outputs": [],
   "source": []
  }
 ],
 "metadata": {
  "kernelspec": {
   "display_name": "Python 3 (ipykernel)",
   "language": "python",
   "name": "python3"
  },
  "language_info": {
   "codemirror_mode": {
    "name": "ipython",
    "version": 3
   },
   "file_extension": ".py",
   "mimetype": "text/x-python",
   "name": "python",
   "nbconvert_exporter": "python",
   "pygments_lexer": "ipython3",
   "version": "3.9.7"
  }
 },
 "nbformat": 4,
 "nbformat_minor": 5
}

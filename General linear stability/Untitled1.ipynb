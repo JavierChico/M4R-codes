{
 "cells": [
  {
   "cell_type": "code",
   "execution_count": 2,
   "id": "5733b3d1",
   "metadata": {},
   "outputs": [],
   "source": [
    "import sympy as sp\n",
    "import numpy as np"
   ]
  },
  {
   "cell_type": "code",
   "execution_count": 23,
   "id": "d6a9b5ac",
   "metadata": {},
   "outputs": [
    {
     "data": {
      "text/latex": [
       "$\\displaystyle 0.0833333333333333 \\alpha^{3} + 0.25 \\alpha^{2} - \\alpha \\left(0.25 \\alpha^{2} - 0.5\\right) + 0.5 \\log{\\left(\\frac{1}{\\alpha} \\right)} - 0.583333333333333$"
      ],
      "text/plain": [
       "0.0833333333333333*alpha**3 + 0.25*alpha**2 - alpha*(0.25*alpha**2 - 0.5) + 0.5*log(1/alpha) - 0.583333333333333"
      ]
     },
     "execution_count": 23,
     "metadata": {},
     "output_type": "execute_result"
    }
   ],
   "source": [
    "r, alpha,u,w, p,Re, Lambda, k,x = sp.symbols('r,alpha,u,w, p,Re,  Lambda, k,x', real=True, positive = True)\n",
    "w_0 = 1/4*(2*sp.log(r/alpha)-(r**2-alpha**2))\n",
    "sp.integrate(w_0, (r, alpha, 1))"
   ]
  },
  {
   "cell_type": "code",
   "execution_count": 24,
   "id": "b65203cb",
   "metadata": {},
   "outputs": [
    {
     "data": {
      "text/latex": [
       "$\\displaystyle 0.25 \\alpha^{2} - 0.5 \\log{\\left(\\alpha \\right)} - 0.25$"
      ],
      "text/plain": [
       "0.25*alpha**2 - 0.5*log(alpha) - 0.25"
      ]
     },
     "execution_count": 24,
     "metadata": {},
     "output_type": "execute_result"
    }
   ],
   "source": [
    "sp.integrate(w_0.diff(r), (r, alpha, 1))"
   ]
  },
  {
   "cell_type": "code",
   "execution_count": 25,
   "id": "205c761e",
   "metadata": {},
   "outputs": [
    {
     "data": {
      "text/latex": [
       "$\\displaystyle i k w{\\left(r \\right)} + \\frac{r \\frac{d}{d r} u{\\left(r \\right)} + u{\\left(r \\right)}}{r}$"
      ],
      "text/plain": [
       "I*k*w(r) + (r*Derivative(u(r), r) + u(r))/r"
      ]
     },
     "execution_count": 25,
     "metadata": {},
     "output_type": "execute_result"
    }
   ],
   "source": [
    "u = sp.Function('u')(r); w = sp.Function('w')(r); p = sp.Function('p')(r)\n",
    "#r = (1-alpha)*x\n",
    "continuity = 1/r*(u*r).diff(r)+sp.I*k*w\n",
    "NS_r = \n",
    "continuity"
   ]
  },
  {
   "cell_type": "code",
   "execution_count": null,
   "id": "a9472f09",
   "metadata": {},
   "outputs": [],
   "source": []
  }
 ],
 "metadata": {
  "kernelspec": {
   "display_name": "Python 3 (ipykernel)",
   "language": "python",
   "name": "python3"
  },
  "language_info": {
   "codemirror_mode": {
    "name": "ipython",
    "version": 3
   },
   "file_extension": ".py",
   "mimetype": "text/x-python",
   "name": "python",
   "nbconvert_exporter": "python",
   "pygments_lexer": "ipython3",
   "version": "3.9.7"
  }
 },
 "nbformat": 4,
 "nbformat_minor": 5
}

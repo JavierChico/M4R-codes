{
 "cells": [
  {
   "cell_type": "code",
   "execution_count": 8,
   "id": "35d9c840",
   "metadata": {},
   "outputs": [],
   "source": [
    "import numpy as np\n",
    "import scipy as sp\n",
    "import matplotlib.pyplot as plt"
   ]
  },
  {
   "cell_type": "code",
   "execution_count": 18,
   "id": "f5d56665",
   "metadata": {},
   "outputs": [],
   "source": [
    "alpha = 0.5; Re = 0.01; epsilon =0.1; Bo=epsilon; Ca=epsilon; Ma = 0; k = 1; Lambda = 0.1\n",
    "N = 10;\n",
    "r_list = np.linspace(alpha, 1, N); h = r_list[1]-r_list[0]\n",
    "\n"
   ]
  },
  {
   "cell_type": "code",
   "execution_count": 21,
   "id": "9d22f2ac",
   "metadata": {},
   "outputs": [],
   "source": [
    "def w_0(r):\n",
    "    return 1/4*(2*np.log(r/alpha)-(r**2-alpha**2))\n",
    "def w_0_prime(r):\n",
    "    return 1/2*(1/r-r)"
   ]
  },
  {
   "cell_type": "code",
   "execution_count": 32,
   "id": "0b869edb",
   "metadata": {},
   "outputs": [],
   "source": [
    "matrix_a_continuity = np.zeros((N,N), dtype=complex)\n",
    "matrix_b_continuity = np.zeros((N,N), dtype=complex)\n",
    "matrix_p_continuity = np.zeros((N,N), dtype=complex)\n",
    "matrix_a_continuity[0,0] = 1; # no_slip for u at the wall (a_0=0)\n",
    "matrix_b_continuity[-1,0] =1; # no_slip for u at the wall (b_0=0)\n",
    "for j, r in enumerate(r_list[1:-1]):\n",
    "    matrix_a_continuity[j, j-1] = -1/2/h\n",
    "    matrix_a_continuity[j,j] = 1/r\n",
    "    matrix_a_continuity[j,j+1] = 1/2/h\n",
    "    matrix_b_continuity[j,j] = 1j*k\n",
    "matrix_continuity = np.concatenate([matrix_a_continuity, matrix_b_continuity, matrix_p_continuity], axis=1)"
   ]
  },
  {
   "cell_type": "code",
   "execution_count": 39,
   "id": "5509b487",
   "metadata": {},
   "outputs": [
    {
     "data": {
      "text/plain": [
       "<matplotlib.image.AxesImage at 0x7f89e0c03d60>"
      ]
     },
     "execution_count": 39,
     "metadata": {},
     "output_type": "execute_result"
    },
    {
     "data": {
      "image/png": "[encoded data removed]",
      "text/plain": [
       "<Figure size 432x288 with 1 Axes>"
      ]
     },
     "metadata": {
      "needs_background": "light"
     },
     "output_type": "display_data"
    }
   ],
   "source": [
    "plt.imshow(np.abs(matrix_continuity)**(1/10))"
   ]
  },
  {
   "cell_type": "code",
   "execution_count": null,
   "id": "2bd7a682",
   "metadata": {},
   "outputs": [],
   "source": []
  },
  {
   "cell_type": "code",
   "execution_count": 35,
   "id": "318c0cb6",
   "metadata": {},
   "outputs": [],
   "source": [
    "matrix_a_rmom = np.zeros((N,N), dtype=complex)\n",
    "matrix_b_rmom = np.zeros((N,N), dtype=complex)\n",
    "matrix_p_rmom = np.zeros((N,N), dtype=complex)\n",
    "\n",
    "for j, r in enumerate(r_list[1:-1]):\n",
    "    matrix_a_rmom[j, j-1] = -1/2/h\n",
    "    matrix_a_rmom[j,j] = 1/r\n",
    "    matrix_a_rmom[j,j+1] = 1/2/h\n",
    "    matrix_p_rmom[j,j] = 1j*k\n",
    "matrix_continuity = np.concatenate([matrix_a_continuity, matrix_b_continuity, matrix_p_continuity], axis=1)"
   ]
  },
  {
   "cell_type": "code",
   "execution_count": null,
   "id": "99c0dc2d",
   "metadata": {},
   "outputs": [],
   "source": []
  }
 ],
 "metadata": {
  "kernelspec": {
   "display_name": "Python 3 (ipykernel)",
   "language": "python",
   "name": "python3"
  },
  "language_info": {
   "codemirror_mode": {
    "name": "ipython",
    "version": 3
   },
   "file_extension": ".py",
   "mimetype": "text/x-python",
   "name": "python",
   "nbconvert_exporter": "python",
   "pygments_lexer": "ipython3",
   "version": "3.9.7"
  }
 },
 "nbformat": 4,
 "nbformat_minor": 5
}

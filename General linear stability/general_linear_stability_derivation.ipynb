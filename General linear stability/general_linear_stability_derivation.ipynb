{
 "cells": [
  {
   "cell_type": "code",
   "execution_count": 9,
   "id": "1b649115",
   "metadata": {},
   "outputs": [],
   "source": [
    "import sympy as sp\n",
    "from sympy.vector import CoordSys3D"
   ]
  },
  {
   "cell_type": "code",
   "execution_count": 29,
   "id": "0afdf91e",
   "metadata": {},
   "outputs": [],
   "source": [
    "Re, z,t,r, Ca,Bo,Ma, alpha,p_0,epsilon = sp.symbols('Re, z,t,r, Ca,Bo,Ma, alpha, p_0,epsilon', real=True)"
   ]
  },
  {
   "cell_type": "code",
   "execution_count": 30,
   "id": "c8e3ac72",
   "metadata": {},
   "outputs": [],
   "source": [
    "p_1 = sp.Function('p_1')(r,z,t);S_1 = sp.Function('S_1')(z,t);\n",
    "u_1 = sp.Function('u_1')(r,z,t);w_1 = sp.Function('w_1')(r,z,t);w_0 = sp.Function('w_0')(r)\n",
    "u = epsilon*u_1;w = w_0+epsilon*w_1; p = p_0+epsilon*p_1; S = 1 + epsilon*S_1"
   ]
  },
  {
   "cell_type": "code",
   "execution_count": 31,
   "id": "f3488c34",
   "metadata": {},
   "outputs": [],
   "source": [
    "continuity = (u*r).diff(r)/r+w.diff(z)\n",
    "r_momentum = Re*(u.diff(t)+u*u.diff(r)+w*u.diff(z))+p.diff(r)-u.diff(r).diff(r)-u.diff(z).diff(z)-u.diff(r)/r-u/r**2\n",
    "z_momentum = Re*(w.diff(t)+u*w.diff(r)+w*w.diff(z))-1+p.diff(z)-w.diff(r).diff(r)-w.diff(z).diff(z)-w.diff(r)/r"
   ]
  },
  {
   "cell_type": "code",
   "execution_count": 32,
   "id": "fb7fda8c",
   "metadata": {},
   "outputs": [
    {
     "data": {
      "text/latex": [
       "$\\displaystyle \\epsilon \\left(\\frac{\\partial}{\\partial r} \\operatorname{u_{1}}{\\left(r,z,t \\right)} + \\frac{\\partial}{\\partial z} \\operatorname{w_{1}}{\\left(r,z,t \\right)} + \\frac{\\operatorname{u_{1}}{\\left(r,z,t \\right)}}{r}\\right)$"
      ],
      "text/plain": [
       "epsilon*(Derivative(u_1(r, z, t), r) + Derivative(w_1(r, z, t), z) + u_1(r, z, t)/r)"
      ]
     },
     "execution_count": 32,
     "metadata": {},
     "output_type": "execute_result"
    }
   ],
   "source": [
    "sp.series(continuity, epsilon , 0,2)"
   ]
  },
  {
   "cell_type": "code",
   "execution_count": 33,
   "id": "1cc05189",
   "metadata": {},
   "outputs": [
    {
     "data": {
      "text/latex": [
       "$\\displaystyle \\epsilon \\left(Re \\operatorname{w_{0}}{\\left(r \\right)} \\frac{\\partial}{\\partial z} \\operatorname{u_{1}}{\\left(r,z,t \\right)} + Re \\frac{\\partial}{\\partial t} \\operatorname{u_{1}}{\\left(r,z,t \\right)} + \\frac{\\partial}{\\partial r} \\operatorname{p_{1}}{\\left(r,z,t \\right)} - \\frac{\\partial^{2}}{\\partial r^{2}} \\operatorname{u_{1}}{\\left(r,z,t \\right)} - \\frac{\\partial^{2}}{\\partial z^{2}} \\operatorname{u_{1}}{\\left(r,z,t \\right)} - \\frac{\\frac{\\partial}{\\partial r} \\operatorname{u_{1}}{\\left(r,z,t \\right)}}{r} - \\frac{\\operatorname{u_{1}}{\\left(r,z,t \\right)}}{r^{2}}\\right) + O\\left(\\epsilon^{2}\\right)$"
      ],
      "text/plain": [
       "epsilon*(Re*w_0(r)*Derivative(u_1(r, z, t), z) + Re*Derivative(u_1(r, z, t), t) + Derivative(p_1(r, z, t), r) - Derivative(u_1(r, z, t), (r, 2)) - Derivative(u_1(r, z, t), (z, 2)) - Derivative(u_1(r, z, t), r)/r - u_1(r, z, t)/r**2) + O(epsilon**2)"
      ]
     },
     "execution_count": 33,
     "metadata": {},
     "output_type": "execute_result"
    }
   ],
   "source": [
    "sp.series(r_momentum, epsilon , 0,2)"
   ]
  },
  {
   "cell_type": "code",
   "execution_count": 34,
   "id": "e727eac5",
   "metadata": {},
   "outputs": [
    {
     "data": {
      "text/latex": [
       "$\\displaystyle - \\frac{\\frac{d}{d r} \\operatorname{w_{0}}{\\left(r \\right)}}{r} - 1 - \\frac{d^{2}}{d r^{2}} \\operatorname{w_{0}}{\\left(r \\right)} + \\epsilon \\left(Re \\operatorname{u_{1}}{\\left(r,z,t \\right)} \\frac{d}{d r} \\operatorname{w_{0}}{\\left(r \\right)} + Re \\operatorname{w_{0}}{\\left(r \\right)} \\frac{\\partial}{\\partial z} \\operatorname{w_{1}}{\\left(r,z,t \\right)} + Re \\frac{\\partial}{\\partial t} \\operatorname{w_{1}}{\\left(r,z,t \\right)} + \\frac{\\partial}{\\partial z} \\operatorname{p_{1}}{\\left(r,z,t \\right)} - \\frac{\\partial^{2}}{\\partial r^{2}} \\operatorname{w_{1}}{\\left(r,z,t \\right)} - \\frac{\\partial^{2}}{\\partial z^{2}} \\operatorname{w_{1}}{\\left(r,z,t \\right)} - \\frac{\\frac{\\partial}{\\partial r} \\operatorname{w_{1}}{\\left(r,z,t \\right)}}{r}\\right) + O\\left(\\epsilon^{2}\\right)$"
      ],
      "text/plain": [
       "-Derivative(w_0(r), r)/r - 1 - Derivative(w_0(r), (r, 2)) + epsilon*(Re*u_1(r, z, t)*Derivative(w_0(r), r) + Re*w_0(r)*Derivative(w_1(r, z, t), z) + Re*Derivative(w_1(r, z, t), t) + Derivative(p_1(r, z, t), z) - Derivative(w_1(r, z, t), (r, 2)) - Derivative(w_1(r, z, t), (z, 2)) - Derivative(w_1(r, z, t), r)/r) + O(epsilon**2)"
      ]
     },
     "execution_count": 34,
     "metadata": {},
     "output_type": "execute_result"
    }
   ],
   "source": [
    "sp.series(z_momentum, epsilon , 0,2)"
   ]
  },
  {
   "cell_type": "code",
   "execution_count": null,
   "id": "11f16872",
   "metadata": {},
   "outputs": [],
   "source": []
  },
  {
   "cell_type": "code",
   "execution_count": 100,
   "id": "4c454627",
   "metadata": {},
   "outputs": [],
   "source": [
    "k,Lambda,u_1,w_1,p_1,S_1,Bo, Ca, Ma = sp.symbols('k,Lambda,u_1,w_1,p_1,S_1,Bo,Ca,Ma')\n",
    "mode = sp.exp(sp.I*k*z+Lambda*t)\n",
    "w_0 = sp.Function('w_0')(r)\n",
    "#w_0 = 1/4*(2*sp.log(r/alpha)-(r**2-alpha**2))\n",
    "p = sp.Function('p')(r);\n",
    "a = sp.Function('a')(r); b = sp.Function('b')(r);\n",
    "u = epsilon*a*mode;w = w_0+epsilon*b*mode; p = p_0+epsilon*p*mode; S = 1 + epsilon*S_1*mode\n",
    "\n",
    "#equations\n",
    "continuity = (u*r).diff(r)/r+w.diff(z)\n",
    "r_momentum = Re*(u.diff(t)+u*u.diff(r)+w*u.diff(z))+p.diff(r)-u.diff(r).diff(r)-u.diff(z).diff(z)-u.diff(r)/r-u/r**2\n",
    "z_momentum = Re*(w.diff(t)+u*w.diff(r)+w*w.diff(z))-1+p.diff(z)-w.diff(r).diff(r)-w.diff(z).diff(z)-w.diff(r)/r\n",
    "z_momentum_LO = -1 -w_0.diff(r).diff(r)-1/r*w_0.diff(r)\n",
    "#boundary conditions\n",
    "kinematic = S.diff(t) + w*S.diff(z)-u\n",
    "tangential_stress = (w-w_0).diff(r)+u.diff(z)-(S-1)\n",
    "normal_stress = Bo*(p-p_0)-2*u.diff(r)*Ca + (1-2*Ma)*(S-1)+S.diff(z).diff(z)"
   ]
  },
  {
   "cell_type": "code",
   "execution_count": 101,
   "id": "fc059602",
   "metadata": {},
   "outputs": [
    {
     "data": {
      "text/latex": [
       "$\\displaystyle i k b{\\left(r \\right)} + \\frac{d}{d r} a{\\left(r \\right)} + \\frac{a{\\left(r \\right)}}{r}$"
      ],
      "text/plain": [
       "I*k*b(r) + Derivative(a(r), r) + a(r)/r"
      ]
     },
     "execution_count": 101,
     "metadata": {},
     "output_type": "execute_result"
    }
   ],
   "source": [
    "sp.simplify(sp.series(continuity, epsilon , 0,2)/mode/epsilon)"
   ]
  },
  {
   "cell_type": "code",
   "execution_count": 102,
   "id": "571ecc8a",
   "metadata": {},
   "outputs": [
    {
     "data": {
      "text/latex": [
       "$\\displaystyle - \\frac{a{\\left(r \\right)}}{r^{2}} - \\frac{\\frac{d}{d r} a{\\left(r \\right)}}{r} + \\frac{d}{d r} p{\\left(r \\right)} - \\frac{d^{2}}{d r^{2}} a{\\left(r \\right)} + k^{2} a{\\left(r \\right)} + i Re k a{\\left(r \\right)} \\operatorname{w_{0}}{\\left(r \\right)} + \\Lambda Re a{\\left(r \\right)} + O\\left(\\epsilon\\right)$"
      ],
      "text/plain": [
       "-a(r)/r**2 - Derivative(a(r), r)/r + Derivative(p(r), r) - Derivative(a(r), (r, 2)) + k**2*a(r) + I*Re*k*a(r)*w_0(r) + Lambda*Re*a(r) + O(epsilon)"
      ]
     },
     "execution_count": 102,
     "metadata": {},
     "output_type": "execute_result"
    }
   ],
   "source": [
    "sp.simplify(sp.series(r_momentum, epsilon , 0,2)/mode/epsilon)"
   ]
  },
  {
   "cell_type": "code",
   "execution_count": 103,
   "id": "34cca132",
   "metadata": {},
   "outputs": [
    {
     "data": {
      "text/latex": [
       "$\\displaystyle - \\frac{\\frac{d}{d r} b{\\left(r \\right)}}{r} - \\frac{d^{2}}{d r^{2}} b{\\left(r \\right)} + i k p{\\left(r \\right)} + k^{2} b{\\left(r \\right)} + Re a{\\left(r \\right)} \\frac{d}{d r} \\operatorname{w_{0}}{\\left(r \\right)} + i Re k b{\\left(r \\right)} \\operatorname{w_{0}}{\\left(r \\right)} + \\Lambda Re b{\\left(r \\right)} + O\\left(\\epsilon\\right)$"
      ],
      "text/plain": [
       "-Derivative(b(r), r)/r - Derivative(b(r), (r, 2)) + I*k*p(r) + k**2*b(r) + Re*a(r)*Derivative(w_0(r), r) + I*Re*k*b(r)*w_0(r) + Lambda*Re*b(r) + O(epsilon)"
      ]
     },
     "execution_count": 103,
     "metadata": {},
     "output_type": "execute_result"
    }
   ],
   "source": [
    "sp.simplify(sp.series(z_momentum-z_momentum_LO, epsilon , 0,2)/mode/epsilon)"
   ]
  },
  {
   "cell_type": "code",
   "execution_count": 104,
   "id": "b88872fe",
   "metadata": {},
   "outputs": [
    {
     "data": {
      "text/latex": [
       "$\\displaystyle - a{\\left(1 \\right)} + i S_{1} k \\operatorname{w_{0}}{\\left(1 \\right)} + \\Lambda S_{1} + O\\left(\\epsilon\\right)$"
      ],
      "text/plain": [
       "-a(1) + I*S_1*k*w_0(1) + Lambda*S_1 + O(epsilon)"
      ]
     },
     "execution_count": 104,
     "metadata": {},
     "output_type": "execute_result"
    }
   ],
   "source": [
    "sp.simplify(sp.series(kinematic.subs(r,S), epsilon , 0,2)/mode/epsilon)"
   ]
  },
  {
   "cell_type": "code",
   "execution_count": 105,
   "id": "fb38f536",
   "metadata": {},
   "outputs": [
    {
     "data": {
      "text/latex": [
       "$\\displaystyle \\frac{d}{d r} b{\\left(r \\right)} + i k a{\\left(1 \\right)} - S_{1} + O\\left(\\epsilon\\right)$"
      ],
      "text/plain": [
       "Derivative(b(r), r) + I*k*a(1) - S_1 + O(epsilon)"
      ]
     },
     "execution_count": 105,
     "metadata": {},
     "output_type": "execute_result"
    }
   ],
   "source": [
    "sp.simplify(sp.series(tangential_stress.subs(r,S), epsilon , 0,2)/mode/epsilon)"
   ]
  },
  {
   "cell_type": "code",
   "execution_count": 106,
   "id": "37ddc4ca",
   "metadata": {},
   "outputs": [
    {
     "data": {
      "text/latex": [
       "$\\displaystyle S_{1} - S_{1} k^{2} - 2 Ma S_{1} - 2 Ca \\frac{d}{d r} a{\\left(r \\right)} + Bo p{\\left(1 \\right)} + O\\left(\\epsilon\\right)$"
      ],
      "text/plain": [
       "S_1 - S_1*k**2 - 2*Ma*S_1 - 2*Ca*Derivative(a(r), r) + Bo*p(1) + O(epsilon)"
      ]
     },
     "execution_count": 106,
     "metadata": {},
     "output_type": "execute_result"
    }
   ],
   "source": [
    "sp.simplify(sp.series(normal_stress.subs(r,S), epsilon , 0,2)/mode/epsilon)"
   ]
  },
  {
   "cell_type": "code",
   "execution_count": 107,
   "id": "0b113dcd",
   "metadata": {},
   "outputs": [
    {
     "data": {
      "text/latex": [
       "$\\displaystyle - \\frac{\\frac{d}{d r} b{\\left(r \\right)}}{r^{2}} + \\frac{\\frac{d^{2}}{d r^{2}} b{\\left(r \\right)}}{r} + \\frac{d^{3}}{d r^{3}} b{\\left(r \\right)} - \\frac{i k a{\\left(r \\right)}}{r^{2}} - \\frac{i k \\frac{d}{d r} a{\\left(r \\right)}}{r} - i k \\frac{d^{2}}{d r^{2}} a{\\left(r \\right)} - k^{2} \\frac{d}{d r} b{\\left(r \\right)} + i k^{3} a{\\left(r \\right)} - Re \\frac{d}{d r} a{\\left(r \\right)} \\frac{d}{d r} \\operatorname{w_{0}}{\\left(r \\right)} - Re a{\\left(r \\right)} \\frac{d^{2}}{d r^{2}} \\operatorname{w_{0}}{\\left(r \\right)} - i Re k \\operatorname{w_{0}}{\\left(r \\right)} \\frac{d}{d r} b{\\left(r \\right)} - i Re k b{\\left(r \\right)} \\frac{d}{d r} \\operatorname{w_{0}}{\\left(r \\right)} - Re k^{2} a{\\left(r \\right)} \\operatorname{w_{0}}{\\left(r \\right)} - \\Lambda Re \\frac{d}{d r} b{\\left(r \\right)} + i \\Lambda Re k a{\\left(r \\right)} + O\\left(\\epsilon\\right)$"
      ],
      "text/plain": [
       "-Derivative(b(r), r)/r**2 + Derivative(b(r), (r, 2))/r + Derivative(b(r), (r, 3)) - I*k*a(r)/r**2 - I*k*Derivative(a(r), r)/r - I*k*Derivative(a(r), (r, 2)) - k**2*Derivative(b(r), r) + I*k**3*a(r) - Re*Derivative(a(r), r)*Derivative(w_0(r), r) - Re*a(r)*Derivative(w_0(r), (r, 2)) - I*Re*k*w_0(r)*Derivative(b(r), r) - I*Re*k*b(r)*Derivative(w_0(r), r) - Re*k**2*a(r)*w_0(r) - Lambda*Re*Derivative(b(r), r) + I*Lambda*Re*k*a(r) + O(epsilon)"
      ]
     },
     "execution_count": 107,
     "metadata": {},
     "output_type": "execute_result"
    }
   ],
   "source": [
    "sp.simplify(sp.series(-(z_momentum-z_momentum_LO).diff(r)+r_momentum*sp.I*k, epsilon , 0,2)/mode/epsilon)"
   ]
  },
  {
   "cell_type": "code",
   "execution_count": 109,
   "id": "a8370d78",
   "metadata": {},
   "outputs": [
    {
     "data": {
      "text/latex": [
       "$\\displaystyle \\frac{a{\\left(r \\right)}}{r^{3}} - \\frac{\\frac{d}{d r} a{\\left(r \\right)}}{r^{2}} + \\frac{\\frac{d}{d r} p{\\left(r \\right)}}{r} - \\frac{2 \\frac{d^{2}}{d r^{2}} a{\\left(r \\right)}}{r} + \\frac{d^{2}}{d r^{2}} p{\\left(r \\right)} - \\frac{d^{3}}{d r^{3}} a{\\left(r \\right)} - \\frac{i k \\frac{d}{d r} b{\\left(r \\right)}}{r} - i k \\frac{d^{2}}{d r^{2}} b{\\left(r \\right)} + \\frac{k^{2} a{\\left(r \\right)}}{r} + k^{2} \\frac{d}{d r} a{\\left(r \\right)} - k^{2} p{\\left(r \\right)} + i k^{3} b{\\left(r \\right)} + \\frac{i Re k a{\\left(r \\right)} \\operatorname{w_{0}}{\\left(r \\right)}}{r} + i Re k \\operatorname{w_{0}}{\\left(r \\right)} \\frac{d}{d r} a{\\left(r \\right)} + 2 i Re k a{\\left(r \\right)} \\frac{d}{d r} \\operatorname{w_{0}}{\\left(r \\right)} - Re k^{2} b{\\left(r \\right)} \\operatorname{w_{0}}{\\left(r \\right)} + \\frac{\\Lambda Re a{\\left(r \\right)}}{r} + \\Lambda Re \\frac{d}{d r} a{\\left(r \\right)} + i \\Lambda Re k b{\\left(r \\right)} + O\\left(\\epsilon\\right)$"
      ],
      "text/plain": [
       "a(r)/r**3 - Derivative(a(r), r)/r**2 + Derivative(p(r), r)/r - 2*Derivative(a(r), (r, 2))/r + Derivative(p(r), (r, 2)) - Derivative(a(r), (r, 3)) - I*k*Derivative(b(r), r)/r - I*k*Derivative(b(r), (r, 2)) + k**2*a(r)/r + k**2*Derivative(a(r), r) - k**2*p(r) + I*k**3*b(r) + I*Re*k*a(r)*w_0(r)/r + I*Re*k*w_0(r)*Derivative(a(r), r) + 2*I*Re*k*a(r)*Derivative(w_0(r), r) - Re*k**2*b(r)*w_0(r) + Lambda*Re*a(r)/r + Lambda*Re*Derivative(a(r), r) + I*Lambda*Re*k*b(r) + O(epsilon)"
      ]
     },
     "execution_count": 109,
     "metadata": {},
     "output_type": "execute_result"
    }
   ],
   "source": [
    "sp.simplify(sp.series((z_momentum-z_momentum_LO)*sp.I*k+(r*r_momentum).diff(r)/r, epsilon , 0,2)/mode/epsilon)"
   ]
  },
  {
   "cell_type": "code",
   "execution_count": 114,
   "id": "7e5b1bc9",
   "metadata": {},
   "outputs": [
    {
     "data": {
      "text/latex": [
       "$\\displaystyle i k^{3} b{\\left(r \\right)} + k^{2} \\frac{d}{d r} a{\\left(r \\right)} + \\frac{k^{2} a{\\left(r \\right)}}{r} - i k \\frac{d^{2}}{d r^{2}} b{\\left(r \\right)} - \\frac{i k \\frac{d}{d r} b{\\left(r \\right)}}{r} - \\frac{d^{3}}{d r^{3}} a{\\left(r \\right)} - \\frac{2 \\frac{d^{2}}{d r^{2}} a{\\left(r \\right)}}{r} + \\frac{\\frac{d}{d r} a{\\left(r \\right)}}{r^{2}} - \\frac{a{\\left(r \\right)}}{r^{3}}$"
      ],
      "text/plain": [
       "I*k**3*b(r) + k**2*Derivative(a(r), r) + k**2*a(r)/r - I*k*Derivative(b(r), (r, 2)) - I*k*Derivative(b(r), r)/r - Derivative(a(r), (r, 3)) - 2*Derivative(a(r), (r, 2))/r + Derivative(a(r), r)/r**2 - a(r)/r**3"
      ]
     },
     "execution_count": 114,
     "metadata": {},
     "output_type": "execute_result"
    }
   ],
   "source": [
    "sp.simplify((-(continuity).diff(r).diff(r)-1/r*continuity.diff(r)+k**2*continuity)/mode/epsilon)"
   ]
  },
  {
   "cell_type": "code",
   "execution_count": 85,
   "id": "aab1ae0f",
   "metadata": {},
   "outputs": [],
   "source": [
    "#stream function\n",
    "k,Lambda,u_1,w_1,p_1,S_1,Bo, Ca, Ma = sp.symbols('k,Lambda,u_1,w_1,p_1,S_1,Bo,Ca,Ma')\n",
    "mode = sp.exp(sp.I*k*z+Lambda*t)\n",
    "w_0 = sp.Function('w_0')(r)\n",
    "#w_0 = 1/4*(2*sp.log(r/alpha)-(r**2-alpha**2))\n",
    "p = sp.Function('p')(r);\n",
    "#a = sp.Function('a')(r); b = sp.Function('b')(r);\n",
    "f = sp.Function('f')(r)\n",
    "psi = f*mode;\n",
    "u = epsilon/r*psi.diff(z);w = w_0-epsilon/r*psi.diff(r); p = p_0+epsilon*p*mode; S = 1 + epsilon*S_1*mode\n",
    "\n",
    "#equations\n",
    "continuity = (u*r).diff(r)/r+w.diff(z)\n",
    "r_momentum = Re*(u.diff(t)+u*u.diff(r)+w*u.diff(z))+p.diff(r)-u.diff(r).diff(r)-u.diff(z).diff(z)-u.diff(r)/r-u/r**2\n",
    "z_momentum = Re*(w.diff(t)+u*w.diff(r)+w*w.diff(z))-1+p.diff(z)-w.diff(r).diff(r)-w.diff(z).diff(z)-w.diff(r)/r\n",
    "z_momentum_LO = -1 -w_0.diff(r).diff(r)-1/r*w_0.diff(r)\n",
    "#boundary conditions\n",
    "kinematic = S.diff(t) + w*S.diff(z) - u\n",
    "tangential_stress = (w-w_0).diff(r)+u.diff(z)-(S-1)\n",
    "normal_stress = Bo*(p-p_0)-2*u.diff(r)*Ca + (1-2*Ma)*(S-1)+S.diff(z).diff(z)"
   ]
  },
  {
   "cell_type": "code",
   "execution_count": 86,
   "id": "a9b8fc76",
   "metadata": {},
   "outputs": [
    {
     "data": {
      "text/latex": [
       "$\\displaystyle 0$"
      ],
      "text/plain": [
       "0"
      ]
     },
     "execution_count": 86,
     "metadata": {},
     "output_type": "execute_result"
    }
   ],
   "source": [
    "sp.simplify(sp.series(continuity, epsilon , 0,2)/mode/epsilon)"
   ]
  },
  {
   "cell_type": "code",
   "execution_count": 87,
   "id": "50549225",
   "metadata": {},
   "outputs": [
    {
     "data": {
      "text/latex": [
       "$\\displaystyle \\frac{d}{d r} p{\\left(r \\right)} - \\frac{2 i k f{\\left(r \\right)}}{r^{3}} + \\frac{i k \\frac{d}{d r} f{\\left(r \\right)}}{r^{2}} - \\frac{i k \\frac{d^{2}}{d r^{2}} f{\\left(r \\right)}}{r} + \\frac{i k^{3} f{\\left(r \\right)}}{r} - \\frac{Re k^{2} f{\\left(r \\right)} \\operatorname{w_{0}}{\\left(r \\right)}}{r} + \\frac{i \\Lambda Re k f{\\left(r \\right)}}{r} + O\\left(\\epsilon\\right)$"
      ],
      "text/plain": [
       "Derivative(p(r), r) - 2*I*k*f(r)/r**3 + I*k*Derivative(f(r), r)/r**2 - I*k*Derivative(f(r), (r, 2))/r + I*k**3*f(r)/r - Re*k**2*f(r)*w_0(r)/r + I*Lambda*Re*k*f(r)/r + O(epsilon)"
      ]
     },
     "execution_count": 87,
     "metadata": {},
     "output_type": "execute_result"
    }
   ],
   "source": [
    "sp.simplify(sp.series(r_momentum, epsilon , 0,2)/mode/epsilon)"
   ]
  },
  {
   "cell_type": "code",
   "execution_count": 88,
   "id": "3406efa8",
   "metadata": {},
   "outputs": [
    {
     "data": {
      "text/latex": [
       "$\\displaystyle \\frac{\\frac{d}{d r} f{\\left(r \\right)}}{r^{3}} - \\frac{\\frac{d^{2}}{d r^{2}} f{\\left(r \\right)}}{r^{2}} + \\frac{\\frac{d^{3}}{d r^{3}} f{\\left(r \\right)}}{r} + i k p{\\left(r \\right)} - \\frac{k^{2} \\frac{d}{d r} f{\\left(r \\right)}}{r} - \\frac{i Re k \\operatorname{w_{0}}{\\left(r \\right)} \\frac{d}{d r} f{\\left(r \\right)}}{r} + \\frac{i Re k f{\\left(r \\right)} \\frac{d}{d r} \\operatorname{w_{0}}{\\left(r \\right)}}{r} - \\frac{\\Lambda Re \\frac{d}{d r} f{\\left(r \\right)}}{r} + O\\left(\\epsilon\\right)$"
      ],
      "text/plain": [
       "Derivative(f(r), r)/r**3 - Derivative(f(r), (r, 2))/r**2 + Derivative(f(r), (r, 3))/r + I*k*p(r) - k**2*Derivative(f(r), r)/r - I*Re*k*w_0(r)*Derivative(f(r), r)/r + I*Re*k*f(r)*Derivative(w_0(r), r)/r - Lambda*Re*Derivative(f(r), r)/r + O(epsilon)"
      ]
     },
     "execution_count": 88,
     "metadata": {},
     "output_type": "execute_result"
    }
   ],
   "source": [
    "sp.simplify(sp.series(z_momentum-z_momentum_LO, epsilon , 0,2)/mode/epsilon)"
   ]
  },
  {
   "cell_type": "code",
   "execution_count": 89,
   "id": "11381ddd",
   "metadata": {},
   "outputs": [
    {
     "data": {
      "text/latex": [
       "$\\displaystyle - i k f{\\left(1 \\right)} + i S_{1} k \\operatorname{w_{0}}{\\left(1 \\right)} + \\Lambda S_{1} + O\\left(\\epsilon\\right)$"
      ],
      "text/plain": [
       "-I*k*f(1) + I*S_1*k*w_0(1) + Lambda*S_1 + O(epsilon)"
      ]
     },
     "execution_count": 89,
     "metadata": {},
     "output_type": "execute_result"
    }
   ],
   "source": [
    "sp.simplify(sp.series(kinematic.subs(r,S), epsilon , 0,2)/mode/epsilon)"
   ]
  },
  {
   "cell_type": "code",
   "execution_count": 90,
   "id": "030c9d45",
   "metadata": {},
   "outputs": [
    {
     "data": {
      "text/latex": [
       "$\\displaystyle - \\frac{d^{2}}{d r^{2}} f{\\left(r \\right)} + \\frac{d}{d r} f{\\left(r \\right)} - k^{2} f{\\left(1 \\right)} - S_{1} + O\\left(\\epsilon\\right)$"
      ],
      "text/plain": [
       "-Derivative(f(r), (r, 2)) + Derivative(f(r), r) - k**2*f(1) - S_1 + O(epsilon)"
      ]
     },
     "execution_count": 90,
     "metadata": {},
     "output_type": "execute_result"
    }
   ],
   "source": [
    "sp.simplify(sp.series(tangential_stress.subs(r,S), epsilon , 0,2)/mode/epsilon)"
   ]
  },
  {
   "cell_type": "code",
   "execution_count": 91,
   "id": "b71412ff",
   "metadata": {},
   "outputs": [
    {
     "data": {
      "text/latex": [
       "$\\displaystyle S_{1} - S_{1} k^{2} - 2 Ma S_{1} - 2 i Ca k \\frac{d}{d r} f{\\left(r \\right)} + 2 i Ca k f{\\left(1 \\right)} + Bo p{\\left(1 \\right)} + O\\left(\\epsilon\\right)$"
      ],
      "text/plain": [
       "S_1 - S_1*k**2 - 2*Ma*S_1 - 2*I*Ca*k*Derivative(f(r), r) + 2*I*Ca*k*f(1) + Bo*p(1) + O(epsilon)"
      ]
     },
     "execution_count": 91,
     "metadata": {},
     "output_type": "execute_result"
    }
   ],
   "source": [
    "sp.simplify(sp.series(normal_stress.subs(r,S), epsilon , 0,2)/mode/epsilon)"
   ]
  },
  {
   "cell_type": "code",
   "execution_count": 99,
   "id": "8ea9504c",
   "metadata": {},
   "outputs": [
    {
     "data": {
      "text/latex": [
       "$\\displaystyle \\frac{3 \\frac{d}{d r} f{\\left(r \\right)}}{r^{4}} - \\frac{3 \\frac{d^{2}}{d r^{2}} f{\\left(r \\right)}}{r^{3}} + \\frac{2 \\frac{d^{3}}{d r^{3}} f{\\left(r \\right)}}{r^{2}} - \\frac{\\frac{d^{4}}{d r^{4}} f{\\left(r \\right)}}{r} + \\frac{2 k^{2} f{\\left(r \\right)}}{r^{3}} - \\frac{2 k^{2} \\frac{d}{d r} f{\\left(r \\right)}}{r^{2}} + \\frac{2 k^{2} \\frac{d^{2}}{d r^{2}} f{\\left(r \\right)}}{r} - \\frac{k^{4} f{\\left(r \\right)}}{r} - \\frac{i Re k \\operatorname{w_{0}}{\\left(r \\right)} \\frac{d}{d r} f{\\left(r \\right)}}{r^{2}} + \\frac{i Re k f{\\left(r \\right)} \\frac{d}{d r} \\operatorname{w_{0}}{\\left(r \\right)}}{r^{2}} + \\frac{i Re k \\operatorname{w_{0}}{\\left(r \\right)} \\frac{d^{2}}{d r^{2}} f{\\left(r \\right)}}{r} - \\frac{i Re k f{\\left(r \\right)} \\frac{d^{2}}{d r^{2}} \\operatorname{w_{0}}{\\left(r \\right)}}{r} - \\frac{i Re k^{3} f{\\left(r \\right)} \\operatorname{w_{0}}{\\left(r \\right)}}{r} - \\frac{\\Lambda Re \\frac{d}{d r} f{\\left(r \\right)}}{r^{2}} + \\frac{\\Lambda Re \\frac{d^{2}}{d r^{2}} f{\\left(r \\right)}}{r} - \\frac{\\Lambda Re k^{2} f{\\left(r \\right)}}{r} + O\\left(\\epsilon\\right)$"
      ],
      "text/plain": [
       "3*Derivative(f(r), r)/r**4 - 3*Derivative(f(r), (r, 2))/r**3 + 2*Derivative(f(r), (r, 3))/r**2 - Derivative(f(r), (r, 4))/r + 2*k**2*f(r)/r**3 - 2*k**2*Derivative(f(r), r)/r**2 + 2*k**2*Derivative(f(r), (r, 2))/r - k**4*f(r)/r - I*Re*k*w_0(r)*Derivative(f(r), r)/r**2 + I*Re*k*f(r)*Derivative(w_0(r), r)/r**2 + I*Re*k*w_0(r)*Derivative(f(r), (r, 2))/r - I*Re*k*f(r)*Derivative(w_0(r), (r, 2))/r - I*Re*k**3*f(r)*w_0(r)/r - Lambda*Re*Derivative(f(r), r)/r**2 + Lambda*Re*Derivative(f(r), (r, 2))/r - Lambda*Re*k**2*f(r)/r + O(epsilon)"
      ]
     },
     "execution_count": 99,
     "metadata": {},
     "output_type": "execute_result"
    }
   ],
   "source": [
    "# curl\n",
    "sp.simplify(sp.series(-(z_momentum-z_momentum_LO).diff(r)+r_momentum*sp.I*k, epsilon , 0,2)/mode/epsilon)"
   ]
  },
  {
   "cell_type": "code",
   "execution_count": null,
   "id": "23d7e28f",
   "metadata": {},
   "outputs": [],
   "source": []
  },
  {
   "cell_type": "code",
   "execution_count": null,
   "id": "0738aae6",
   "metadata": {},
   "outputs": [],
   "source": []
  }
 ],
 "metadata": {
  "kernelspec": {
   "display_name": "Python 3 (ipykernel)",
   "language": "python",
   "name": "python3"
  },
  "language_info": {
   "codemirror_mode": {
    "name": "ipython",
    "version": 3
   },
   "file_extension": ".py",
   "mimetype": "text/x-python",
   "name": "python",
   "nbconvert_exporter": "python",
   "pygments_lexer": "ipython3",
   "version": "3.9.7"
  }
 },
 "nbformat": 4,
 "nbformat_minor": 5
}

{
 "cells": [
  {
   "cell_type": "code",
   "execution_count": 1,
   "id": "78fd7efa",
   "metadata": {},
   "outputs": [],
   "source": [
    "import numpy as np\n",
    "import matplotlib.pyplot as plt\n",
    "import scipy.linalg\n",
    "import scipy.integrate\n",
    "from matplotlib import cm\n",
    "from scipy import fft\n",
    "import pandas as pd"
   ]
  },
  {
   "cell_type": "code",
   "execution_count": 24,
   "id": "ebe42b98",
   "metadata": {},
   "outputs": [],
   "source": [
    "alpha = 0.5; epsilon = 0.1; Re = 0.01; k = 1; Lambda =0.1\n",
    "Nr = 50\n",
    "r_vec = np.linspace(alpha, 1, Nr); h=r_vec[1]-r_vec[0];"
   ]
  },
  {
   "cell_type": "code",
   "execution_count": 25,
   "id": "aa22a931",
   "metadata": {},
   "outputs": [],
   "source": [
    "def w_0(r):\n",
    "    return 1/4*(2*np.log(r/alpha)-(r**2-alpha**2))\n",
    "def w_0_prime(r):\n",
    "    return 1/2*(1/r-r)"
   ]
  },
  {
   "cell_type": "code",
   "execution_count": 34,
   "id": "5b92bbf7",
   "metadata": {},
   "outputs": [],
   "source": [
    "matrix_a_eq_1 = np.zeros((Nr, Nr), dtype = complex)\n",
    "matrix_p_eq_1 = np.zeros((Nr, Nr), dtype = complex)\n",
    "matrix_a_eq_1[0,0] = 1 # f(alpha)=0\n",
    "\n",
    "for j, r in enumerate(r_vec[1:-1]):\n",
    "    matrix_a_eq_1[j, j-1] = -1/h**2-1/2/r/h\n",
    "    matrix_a_eq_1[j, j] = Re*Lambda+ 1j*k*w_0(r)+k**2+2/h**2-1/r**2\n",
    "    matrix_a_eq_1[j, j+1] = -1/h**2 -1/(2*r*h)\n",
    "    matrix_p_eq_1[j, j-1] = -1/(2*h)\n",
    "    matrix_p_eq_1[j, j+1] = 1/(2*h)\n",
    "\n"
   ]
  },
  {
   "cell_type": "code",
   "execution_count": 35,
   "id": "64d0c2db",
   "metadata": {},
   "outputs": [],
   "source": [
    "matrix_a_eq_2 = np.zeros((Nr, Nr), dtype = complex)\n",
    "matrix_p_eq_2 = np.zeros((Nr, Nr), dtype = complex)\n",
    "for j, r in enumerate(r_vec[1:-1]):\n",
    "    matrix_a_eq_2[j, j-1] = Re/h*w_0_prime(r)\n",
    "    matrix_a_eq_2[j, j] = -2*Re*w_0_prime(r)/r\n",
    "    matrix_a_eq_2[j, j+1] = -Re/h*w_0_prime(r)\n",
    "    matrix_p_eq_2[j, j-1] = 1/h**2-1/(2*h*r)\n",
    "    matrix_p_eq_2[j,j] = -2/h**2-k**2\n",
    "    matrix_p_eq_2[j, j+1] = 1/(2*h*r)+1/h**2"
   ]
  },
  {
   "cell_type": "code",
   "execution_count": null,
   "id": "3ea0cec8",
   "metadata": {},
   "outputs": [],
   "source": []
  },
  {
   "cell_type": "code",
   "execution_count": null,
   "id": "2ed42ba5",
   "metadata": {},
   "outputs": [],
   "source": []
  },
  {
   "cell_type": "code",
   "execution_count": null,
   "id": "1885324b",
   "metadata": {},
   "outputs": [],
   "source": []
  }
 ],
 "metadata": {
  "kernelspec": {
   "display_name": "Python 3 (ipykernel)",
   "language": "python",
   "name": "python3"
  },
  "language_info": {
   "codemirror_mode": {
    "name": "ipython",
    "version": 3
   },
   "file_extension": ".py",
   "mimetype": "text/x-python",
   "name": "python",
   "nbconvert_exporter": "python",
   "pygments_lexer": "ipython3",
   "version": "3.9.7"
  }
 },
 "nbformat": 4,
 "nbformat_minor": 5
}

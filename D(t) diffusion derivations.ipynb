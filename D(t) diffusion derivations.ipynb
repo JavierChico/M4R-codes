{
 "cells": [
  {
   "cell_type": "code",
   "execution_count": 22,
   "id": "59401952",
   "metadata": {},
   "outputs": [],
   "source": [
    "import sympy as sp\n",
    "import sympy.integrals.transforms as transforms"
   ]
  },
  {
   "cell_type": "code",
   "execution_count": 32,
   "id": "86f75c27",
   "metadata": {},
   "outputs": [],
   "source": [
    "x,t,k,gamma,Gamma, Omega, beta, epsilon, q,D = sp.symbols('x,t,k,gamma,Gamma, Omega, beta, epsilon, q,D', real=True)"
   ]
  },
  {
   "cell_type": "code",
   "execution_count": 14,
   "id": "09a7e9dd",
   "metadata": {},
   "outputs": [
    {
     "data": {
      "text/latex": [
       "$\\displaystyle \\begin{cases} 0 & \\text{for}\\: \\left|{\\arg{\\left(x \\right)} - \\frac{\\pi}{2}}\\right| < \\frac{\\pi}{2} \\wedge \\left|{\\arg{\\left(x \\right)} + \\frac{\\pi}{2}}\\right| < \\frac{\\pi}{2} \\\\\\int\\limits_{-\\infty}^{\\infty} e^{i k x}\\, dk & \\text{otherwise} \\end{cases}$"
      ],
      "text/plain": [
       "Piecewise((0, (Abs(arg(x) - pi/2) < pi/2) & (Abs(arg(x) + pi/2) < pi/2)), (Integral(exp(I*k*x), (k, -oo, oo)), True))"
      ]
     },
     "execution_count": 14,
     "metadata": {},
     "output_type": "execute_result"
    }
   ],
   "source": [
    "sp.integrate(sp.exp(sp.I*k*x), (k, -sp.oo, sp.oo))"
   ]
  },
  {
   "cell_type": "code",
   "execution_count": 21,
   "id": "fe914058",
   "metadata": {},
   "outputs": [
    {
     "data": {
      "text/latex": [
       "$\\displaystyle \\mathcal{F}_{x}\\left[e^{- \\beta x^{2}}\\right]\\left(k\\right)$"
      ],
      "text/plain": [
       "FourierTransform(exp(-beta*x**2), x, k)"
      ]
     },
     "execution_count": 21,
     "metadata": {},
     "output_type": "execute_result"
    }
   ],
   "source": [
    "transforms.fourier_transform(sp.exp(-beta*x**2), x,k, simplify=True)"
   ]
  },
  {
   "cell_type": "code",
   "execution_count": 33,
   "id": "763b80ca",
   "metadata": {},
   "outputs": [],
   "source": [
    "u_0 = sp.Function('u_0')(x,t, T)\n",
    "u_1 = sp.Function('u_1')(x,t,T)\n",
    "u = u_0 + epsilon**q*u_1\n",
    "T = epsilon**gamma * t\n"
   ]
  },
  {
   "cell_type": "code",
   "execution_count": 35,
   "id": "893ab368",
   "metadata": {},
   "outputs": [
    {
     "data": {
      "text/latex": [
       "$\\displaystyle - D \\epsilon^{q} \\frac{\\partial^{2}}{\\partial x^{2}} \\operatorname{u_{1}}{\\left(x,t,\\epsilon^{\\gamma} t \\right)} - D \\frac{\\partial^{2}}{\\partial x^{2}} \\operatorname{u_{0}}{\\left(x,t,\\epsilon^{\\gamma} t \\right)} + \\epsilon \\epsilon^{3 q} \\operatorname{u_{1}}^{3}{\\left(x,t,\\epsilon^{\\gamma} t \\right)} + 3 \\epsilon \\epsilon^{2 q} \\operatorname{u_{0}}{\\left(x,t,\\epsilon^{\\gamma} t \\right)} \\operatorname{u_{1}}^{2}{\\left(x,t,\\epsilon^{\\gamma} t \\right)} + 3 \\epsilon \\epsilon^{q} \\operatorname{u_{0}}^{2}{\\left(x,t,\\epsilon^{\\gamma} t \\right)} \\operatorname{u_{1}}{\\left(x,t,\\epsilon^{\\gamma} t \\right)} + \\epsilon \\operatorname{u_{0}}^{3}{\\left(x,t,\\epsilon^{\\gamma} t \\right)} + \\epsilon^{\\gamma} \\epsilon^{q} \\left. \\frac{\\partial}{\\partial \\xi_{3}} \\operatorname{u_{1}}{\\left(x,t,\\xi_{3} \\right)} \\right|_{\\substack{ \\xi_{3}=\\epsilon^{\\gamma} t }} + \\epsilon^{\\gamma} \\left. \\frac{\\partial}{\\partial \\xi_{3}} \\operatorname{u_{0}}{\\left(x,t,\\xi_{3} \\right)} \\right|_{\\substack{ \\xi_{3}=\\epsilon^{\\gamma} t }} + \\epsilon^{q} \\left. \\frac{\\partial}{\\partial \\xi_{2}} \\operatorname{u_{1}}{\\left(x,\\xi_{2},\\epsilon^{\\gamma} t \\right)} \\right|_{\\substack{ \\xi_{2}=t }} + \\left. \\frac{\\partial}{\\partial \\xi_{2}} \\operatorname{u_{0}}{\\left(x,\\xi_{2},\\epsilon^{\\gamma} t \\right)} \\right|_{\\substack{ \\xi_{2}=t }}$"
      ],
      "text/plain": [
       "-D*epsilon**q*Derivative(u_1(x, t, epsilon**gamma*t), (x, 2)) - D*Derivative(u_0(x, t, epsilon**gamma*t), (x, 2)) + epsilon*epsilon**(3*q)*u_1(x, t, epsilon**gamma*t)**3 + 3*epsilon*epsilon**(2*q)*u_0(x, t, epsilon**gamma*t)*u_1(x, t, epsilon**gamma*t)**2 + 3*epsilon*epsilon**q*u_0(x, t, epsilon**gamma*t)**2*u_1(x, t, epsilon**gamma*t) + epsilon*u_0(x, t, epsilon**gamma*t)**3 + epsilon**gamma*epsilon**q*Subs(Derivative(u_1(x, t, _xi_3), _xi_3), _xi_3, epsilon**gamma*t) + epsilon**gamma*Subs(Derivative(u_0(x, t, _xi_3), _xi_3), _xi_3, epsilon**gamma*t) + epsilon**q*Subs(Derivative(u_1(x, _xi_2, epsilon**gamma*t), _xi_2), _xi_2, t) + Subs(Derivative(u_0(x, _xi_2, epsilon**gamma*t), _xi_2), _xi_2, t)"
      ]
     },
     "execution_count": 35,
     "metadata": {},
     "output_type": "execute_result"
    }
   ],
   "source": [
    "sp.expand(u.diff(t)+epsilon*(u)**3-D*u.diff(x).diff(x))"
   ]
  },
  {
   "cell_type": "code",
   "execution_count": null,
   "id": "fe385e48",
   "metadata": {},
   "outputs": [],
   "source": []
  }
 ],
 "metadata": {
  "kernelspec": {
   "display_name": "Python 3 (ipykernel)",
   "language": "python",
   "name": "python3"
  },
  "language_info": {
   "codemirror_mode": {
    "name": "ipython",
    "version": 3
   },
   "file_extension": ".py",
   "mimetype": "text/x-python",
   "name": "python",
   "nbconvert_exporter": "python",
   "pygments_lexer": "ipython3",
   "version": "3.9.7"
  }
 },
 "nbformat": 4,
 "nbformat_minor": 5
}

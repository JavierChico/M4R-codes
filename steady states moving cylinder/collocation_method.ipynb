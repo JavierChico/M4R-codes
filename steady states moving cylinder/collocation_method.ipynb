{
 "cells": [
  {
   "cell_type": "code",
   "execution_count": 1,
   "id": "35fbdfc2",
   "metadata": {},
   "outputs": [],
   "source": [
    "import numpy as np\n",
    "import matplotlib.pyplot as plt\n",
    "import scipy\n",
    "import scipy.optimize"
   ]
  },
  {
   "cell_type": "code",
   "execution_count": 183,
   "id": "8d0f6cbe",
   "metadata": {},
   "outputs": [],
   "source": [
    "N = 30; n = np.arange(1, int(N/2)+1)\n",
    "z_vec = np.linspace(0, 1, N)\n",
    "epsilon =0.1\n",
    "D = 0.6\n",
    "Q = -0.5\n",
    "alpha = 0.95\n",
    "V = 0\n",
    "mass = 1"
   ]
  },
  {
   "cell_type": "code",
   "execution_count": 184,
   "id": "c034f0e2",
   "metadata": {},
   "outputs": [],
   "source": [
    "def f_no_fixed_mass(vec):\n",
    "    #print(vec)\n",
    "    \n",
    "    M = len(vec)\n",
    "    \n",
    "    a = vec[:int(M/2)]; b = vec[int(M/2):]\n",
    "    \n",
    "    n = np.arange(int(M/2))\n",
    "    def eta(z):\n",
    "        \n",
    "        return a.T@np.cos(2*n*np.pi*z) + b.T@np.sin(2*n*np.pi*z)\n",
    "    def eta_z(z):\n",
    "        return -a.T@(np.sin(2*n*np.pi*z)*2*n*np.pi) + b.T@(np.cos(2*n*np.pi*z)*2*n*np.pi)\n",
    "    def eta_zzz(z):\n",
    "        return a.T@(np.sin(2*n*np.pi*z)*(2*n*np.pi)**3) + -b.T@(np.cos(2*n*np.pi*z)*(2*n*np.pi)**3)\n",
    "    \n",
    "    equations = np.zeros_like(z_vec)\n",
    "    for j, z in enumerate(z_vec):\n",
    "        #print(j, 1/3*eta(z)**3*(1+D*eta_z(z)+epsilon**2*eta_zzz(z))+V*alpha/2*(1+eta(z)/alpha)**2-Q)\n",
    "        equations[j] = 1/3*eta(z)**3*(1 + D*eta_z(z)+epsilon**2*eta_zzz(z)) + V*alpha/2*(1+eta(z)/alpha)**2-Q\n",
    "    \n",
    "    return equations"
   ]
  },
  {
   "cell_type": "code",
   "execution_count": 185,
   "id": "4feeca0c",
   "metadata": {},
   "outputs": [],
   "source": [
    "def f_fixed_mass(vec):\n",
    "    #print(vec)\n",
    "    \n",
    "    M = len(vec)\n",
    "    \n",
    "    a = vec[:int(M/2)]; b = vec[int(M/2):]\n",
    "    \n",
    "    n = np.arange(1, int(M/2)+1)\n",
    "    def eta(z):\n",
    "        \n",
    "        return a.T@np.cos(2*n*np.pi*z) + b.T@np.sin(2*n*np.pi*z)+mass\n",
    "    def eta_z(z):\n",
    "        return -a.T@(np.sin(2*n*np.pi*z)*2*n*np.pi) + b.T@(np.cos(2*n*np.pi*z)*2*n*np.pi)\n",
    "    def eta_zzz(z):\n",
    "        return a.T@(np.sin(2*n*np.pi*z)*(2*n*np.pi)**3) + -b.T@(np.cos(2*n*np.pi*z)*(2*n*np.pi)**3)\n",
    "    \n",
    "    equations = np.zeros_like(vec)\n",
    "    for j, z in enumerate(z_vec):\n",
    "        #print(j, 1/3*eta(z)**3*(1+D*eta_z(z)+epsilon**2*eta_zzz(z))+V*alpha/2*(1+eta(z)/alpha)**2-Q)\n",
    "        equations[j] = 1/3*eta(z)**3*(1 + D*eta_z(z)+epsilon**2*eta_zzz(z)) + V*alpha/2*(1+eta(z)/alpha)**2-Q\n",
    "    \n",
    "    return equations"
   ]
  },
  {
   "cell_type": "code",
   "execution_count": 186,
   "id": "caeef1a5",
   "metadata": {},
   "outputs": [
    {
     "name": "stderr",
     "output_type": "stream",
     "text": [
      "/Users/javier/opt/anaconda3/lib/python3.9/site-packages/scipy/optimize/minpack.py:175: RuntimeWarning: The iteration is not making good progress, as measured by the \n",
      "  improvement from the last ten iterations.\n",
      "  warnings.warn(msg, RuntimeWarning)\n"
     ]
    }
   ],
   "source": [
    "vec_sol = scipy.optimize.fsolve(f_fixed_mass,  np.ones(N))\n",
    "a_sol = vec_sol[:int(N/2)].reshape(int(N/2),-1); b_sol = vec_sol[int(N/2):].reshape(int(N/2),-1)\n"
   ]
  },
  {
   "cell_type": "code",
   "execution_count": 182,
   "id": "645fb290",
   "metadata": {},
   "outputs": [
    {
     "name": "stdout",
     "output_type": "stream",
     "text": [
      "1.0\n"
     ]
    },
    {
     "data": {
      "image/png": "[encoded data removed]",
      "text/plain": [
       "<Figure size 432x288 with 1 Axes>"
      ]
     },
     "metadata": {
      "needs_background": "light"
     },
     "output_type": "display_data"
    }
   ],
   "source": [
    "refined_z = np.linspace(0,1,1000)\n",
    "eta_sol = np.zeros_like(refined_z)+mass\n",
    "for j,n_value in enumerate(n):\n",
    "    eta_sol += a_sol[j]*np.cos(n_value*2*np.pi*refined_z)+b_sol[j]*np.sin(n_value*2*np.pi*refined_z)\n",
    "plt.plot(refined_z, eta_sol)\n",
    "print(np.trapz(eta_sol, refined_z))"
   ]
  },
  {
   "cell_type": "code",
   "execution_count": 118,
   "id": "7e452445",
   "metadata": {},
   "outputs": [
    {
     "data": {
      "text/plain": [
       "3.0"
      ]
     },
     "execution_count": 118,
     "metadata": {},
     "output_type": "execute_result"
    }
   ],
   "source": [
    "vec = np.arange(6)\n",
    "M = len(vec)\n",
    "a = vec[:int(M/2)]; b = vec[int(M/2):]\n",
    "n = np.arange(int(M/2))\n",
    "np.ones(3).T@np.cos(2*n*np.pi*1) "
   ]
  },
  {
   "cell_type": "code",
   "execution_count": null,
   "id": "44790c87",
   "metadata": {},
   "outputs": [],
   "source": []
  },
  {
   "cell_type": "markdown",
   "id": "9b48bc3e",
   "metadata": {},
   "source": [
    "## Travelling waves"
   ]
  },
  {
   "cell_type": "code",
   "execution_count": 281,
   "id": "5596f8d8",
   "metadata": {},
   "outputs": [
    {
     "data": {
      "text/plain": [
       "array([-2.30823565e-01, -4.28480945e-01, -5.65248247e-01, -6.23295861e-01,\n",
       "       -5.97340964e-01, -4.95060100e-01, -3.35285442e-01, -1.44409001e-01,\n",
       "        4.83107220e-02,  2.15673988e-01,  3.36782737e-01,  3.99851182e-01,\n",
       "        4.03195786e-01,  3.54412770e-01,  2.68057876e-01,  1.62371161e-01,\n",
       "        5.57484981e-02, -3.63343754e-02, -1.03432469e-01, -1.41045415e-01,\n",
       "       -1.50343229e-01, -1.36905186e-01, -1.08850213e-01, -7.48374773e-02,\n",
       "       -4.23628535e-02, -1.66181156e-02, -2.52618445e-05,  7.56931732e-03,\n",
       "        8.19402091e-03,  4.81056932e-03,  8.36599500e-01,  4.88758490e-01,\n",
       "        2.28087240e-01,  8.26484700e-02, -9.37822300e-02, -3.29364830e-01,\n",
       "       -4.96864170e-01, -5.30058550e-01, -4.96278950e-01, -4.45903330e-01,\n",
       "       -3.42078290e-01, -1.71732130e-01, -2.80133000e-03,  1.12045280e-01,\n",
       "        1.93668410e-01,  2.61386690e-01,  2.83736200e-01,  2.43133010e-01,\n",
       "        1.78454830e-01,  1.24865160e-01,  7.04122100e-02,  4.96502000e-03,\n",
       "       -4.35584500e-02, -5.51908700e-02, -5.18322300e-02, -5.45967300e-02,\n",
       "       -5.03993400e-02, -2.85573700e-02, -9.66242000e-03, -1.02466700e-02,\n",
       "        5.00000000e-01,  1.00000000e+00])"
      ]
     },
     "execution_count": 281,
     "metadata": {},
     "output_type": "execute_result"
    }
   ],
   "source": [
    "b_guess = np.array([ 0.8365995 ,  0.48875849,  0.22808724,  0.08264847, -0.09378223,\n",
    "       -0.32936483, -0.49686417, -0.53005855, -0.49627895, -0.44590333,\n",
    "       -0.34207829, -0.17173213, -0.00280133,  0.11204528,  0.19366841,\n",
    "        0.26138669,  0.2837362 ,  0.24313301,  0.17845483,  0.12486516,\n",
    "        0.07041221,  0.00496502, -0.04355845, -0.05519087, -0.05183223,\n",
    "       -0.05459673, -0.05039934, -0.02855737, -0.00966242, -0.01024667])\n",
    "a_guess = np.array([-2.30823565e-01, -4.28480945e-01, -5.65248247e-01, -6.23295861e-01,\n",
    "       -5.97340964e-01, -4.95060100e-01, -3.35285442e-01, -1.44409001e-01,\n",
    "        4.83107220e-02,  2.15673988e-01,  3.36782737e-01,  3.99851182e-01,\n",
    "        4.03195786e-01,  3.54412770e-01,  2.68057876e-01,  1.62371161e-01,\n",
    "        5.57484981e-02, -3.63343754e-02, -1.03432469e-01, -1.41045415e-01,\n",
    "       -1.50343229e-01, -1.36905186e-01, -1.08850213e-01, -7.48374773e-02,\n",
    "       -4.23628535e-02, -1.66181156e-02, -2.52618445e-05,  7.56931732e-03,\n",
    "        8.19402091e-03,  4.81056932e-03])\n",
    "vec_guess = np.concatenate([a_guess, b_guess, np.array([0.5, 1])])\n",
    "vec_guess"
   ]
  },
  {
   "cell_type": "code",
   "execution_count": 297,
   "id": "97d79ce8",
   "metadata": {},
   "outputs": [
    {
     "name": "stdout",
     "output_type": "stream",
     "text": [
      "[ 1  2  3  4  5  6  7  8  9 10 11 12 13 14 15 16 17 18 19 20 21 22 23 24\n",
      " 25 26 27 28 29 30]\n"
     ]
    },
    {
     "name": "stderr",
     "output_type": "stream",
     "text": [
      "/Users/javier/opt/anaconda3/lib/python3.9/site-packages/scipy/optimize/minpack.py:175: RuntimeWarning: The iteration is not making good progress, as measured by the \n",
      "  improvement from the last ten iterations.\n",
      "  warnings.warn(msg, RuntimeWarning)\n"
     ]
    }
   ],
   "source": [
    "N = len(a_guess); n = np.arange(1,N+1); L = 2*np.pi\n",
    "M = 2*N + 2\n",
    "\n",
    "collocation_points = np.linspace(-L/2, L/2, M-1)\n",
    "\n",
    "epsilon = 0.1; D = 0.6; alpha = 0.95; \n",
    "print(n)\n",
    "def f_solitary_wave(vec):\n",
    "    M = len(vec); N = int((M-2)/2)\n",
    "    a = vec[:N]; b = vec[N:(M-2)]; A = vec[M-2]; c = vec[-1]\n",
    "\n",
    "    eta = np.zeros_like(collocation_points); eta_z = np.zeros_like(collocation_points)\n",
    "    eta_zz = np.zeros_like(collocation_points); eta_zzz = np.zeros_like(collocation_points)\n",
    "    eta_zzzz = np.zeros_like(collocation_points)\n",
    "    \n",
    "    for j,n_value in enumerate(n):\n",
    "        eta += a[j]*np.cos(n_value*np.pi/L*collocation_points) + b[j]*np.sin(n_value*np.pi/L*collocation_points) + A\n",
    "        #eta_z\n",
    "        eta_z += -a[j]*np.sin(n_value*np.pi/L*collocation_points)*n_value*np.pi/L\n",
    "        eta_z += b[j]*np.cos(n_value*np.pi/L*collocation_points)*n_value*np.pi/L\n",
    "        #eta_zz\n",
    "        eta_zz += -a[j]*np.cos(n_value*np.pi/L*collocation_points)*(n_value*np.pi/L)**2\n",
    "        eta_zz += -b[j]*np.sin(n_value*np.pi/L*collocation_points)*(n_value*np.pi/L)**2\n",
    "        #eta-zzz\n",
    "        eta_zzz += a[j]*np.sin(n_value*np.pi/L*collocation_points)*(n_value*np.pi/L)**3\n",
    "        eta_zzz += -b[j]*np.cos(n_value*np.pi/L*collocation_points)*(n_value*np.pi/L)**3\n",
    "        #eta_zzzz\n",
    "        eta_zzzz += a[j]*np.cos(n_value*np.pi/L*collocation_points)*(n_value*np.pi/L)**4\n",
    "        eta_zzzz += b[j]*np.sin(n_value*np.pi/L*collocation_points)*(n_value*np.pi/L)**4\n",
    "        \n",
    "    equations = np.zeros_like(vec)\n",
    "    equations[:-1] = -c*eta_z + eta**2*eta_z + D*(eta**3/3*eta_zz + eta**2*eta_z**2) + epsilon**2*(eta**3/3*eta_zzzz + eta**2*eta_z*eta_zzz)\n",
    "    equations[-1] = np.trapz(eta, collocation_points) - L\n",
    "    \n",
    "    return equations\n",
    "\n",
    "vec_sol = scipy.optimize.fsolve(f_solitary_wave,  vec_guess)\n",
    "a_sol = vec_sol[:N]; b_sol =  vec_sol[N:(M-2)]; A = vec_sol[M-2]; c = vec_sol[-1]\n",
    "\n"
   ]
  },
  {
   "cell_type": "code",
   "execution_count": 298,
   "id": "2e9808a6",
   "metadata": {},
   "outputs": [
    {
     "name": "stdout",
     "output_type": "stream",
     "text": [
      "-27908.096883782666\n"
     ]
    },
    {
     "data": {
      "image/png": "[encoded data removed]",
      "text/plain": [
       "<Figure size 432x288 with 1 Axes>"
      ]
     },
     "metadata": {
      "needs_background": "light"
     },
     "output_type": "display_data"
    }
   ],
   "source": [
    "refined_z = np.linspace(-L/2, L/2,1000)\n",
    "eta_sol = np.zeros_like(refined_z) + A\n",
    "for j,n_value in enumerate(n):\n",
    "    eta_sol += a_sol[j]*np.cos(n_value*2*np.pi*refined_z) + b_sol[j]*np.sin(n_value*2*np.pi*refined_z)\n",
    "plt.plot(refined_z, eta_sol)\n",
    "print(np.trapz(eta_sol, refined_z))"
   ]
  },
  {
   "cell_type": "code",
   "execution_count": 285,
   "id": "eaeb26f5",
   "metadata": {},
   "outputs": [
    {
     "data": {
      "text/plain": [
       "12615.893169487721"
      ]
     },
     "execution_count": 285,
     "metadata": {},
     "output_type": "execute_result"
    }
   ],
   "source": [
    "A"
   ]
  },
  {
   "cell_type": "code",
   "execution_count": 286,
   "id": "c68f7adb",
   "metadata": {},
   "outputs": [
    {
     "data": {
      "text/plain": [
       "610.1208124603194"
      ]
     },
     "execution_count": 286,
     "metadata": {},
     "output_type": "execute_result"
    }
   ],
   "source": [
    "c"
   ]
  },
  {
   "cell_type": "code",
   "execution_count": 292,
   "id": "d25db2f4",
   "metadata": {},
   "outputs": [
    {
     "data": {
      "text/plain": [
       "[<matplotlib.lines.Line2D at 0x7fcfc0c030a0>]"
      ]
     },
     "execution_count": 292,
     "metadata": {},
     "output_type": "execute_result"
    },
    {
     "data": {
      "image/png": "[encoded data removed]",
      "text/plain": [
       "<Figure size 432x288 with 1 Axes>"
      ]
     },
     "metadata": {
      "needs_background": "light"
     },
     "output_type": "display_data"
    }
   ],
   "source": [
    "plt.loglog(n, abs(a_sol), '.')\n",
    "plt.loglog(n, abs(a_guess), '.', color='black')\n",
    "plt.loglog(n, abs(b_sol), '.')\n",
    "plt.loglog(n, abs(b_guess), '.', color='brown')"
   ]
  },
  {
   "cell_type": "markdown",
   "id": "a5df35a3",
   "metadata": {},
   "source": [
    "# Code with boundary condition\n",
    "$$\\eta_z(0)=0$$"
   ]
  },
  {
   "cell_type": "code",
   "execution_count": null,
   "id": "f172334b",
   "metadata": {},
   "outputs": [],
   "source": [
    "N = len(a_guess); n = np.arange(1,N+1); L = 2*np.pi\n",
    "M = 2*N + 2\n",
    "\n",
    "collocation_points = np.linspace(-L/2, L/2, M-2)\n",
    "\n",
    "epsilon = 0.1; D = 0.6; alpha = 0.95; \n",
    "print(n)\n",
    "def f_solitary_wave(vec):\n",
    "    M = len(vec); N = int((M-2)/2)\n",
    "    a = vec[:N]; b = vec[N:(M-2)]; A = vec[M-2]; c = vec[-1]\n",
    "\n",
    "    eta = np.zeros_like(collocation_points); eta_z = np.zeros_like(collocation_points)\n",
    "    eta_zz = np.zeros_like(collocation_points); eta_zzz = np.zeros_like(collocation_points)\n",
    "    eta_zzzz = np.zeros_like(collocation_points)\n",
    "    \n",
    "    for j,n_value in enumerate(n):\n",
    "        eta += a[j]*np.cos(n_value*np.pi/L*collocation_points) + b[j]*np.sin(n_value*np.pi/L*collocation_points) + A\n",
    "        #eta_z\n",
    "        eta_z += -a[j]*np.sin(n_value*np.pi/L*collocation_points)*n_value*np.pi/L\n",
    "        eta_z += b[j]*np.cos(n_value*np.pi/L*collocation_points)*n_value*np.pi/L\n",
    "        #eta_zz\n",
    "        eta_zz += -a[j]*np.cos(n_value*np.pi/L*collocation_points)*(n_value*np.pi/L)**2\n",
    "        eta_zz += -b[j]*np.sin(n_value*np.pi/L*collocation_points)*(n_value*np.pi/L)**2\n",
    "        #eta-zzz\n",
    "        eta_zzz += a[j]*np.sin(n_value*np.pi/L*collocation_points)*(n_value*np.pi/L)**3\n",
    "        eta_zzz += -b[j]*np.cos(n_value*np.pi/L*collocation_points)*(n_value*np.pi/L)**3\n",
    "        #eta_zzzz\n",
    "        eta_zzzz += a[j]*np.cos(n_value*np.pi/L*collocation_points)*(n_value*np.pi/L)**4\n",
    "        eta_zzzz += b[j]*np.sin(n_value*np.pi/L*collocation_points)*(n_value*np.pi/L)**4\n",
    "        \n",
    "    equations = np.zeros_like(vec)\n",
    "    equations[0] = np.sum([-a[j]*(n[j]*np.pi/L)**2 for j in range(len(n))])\n",
    "    equations[1:-1] = -c*eta_z + eta**2*eta_z + D*(eta**3/3*eta_zz + eta**2*eta_z**2) + epsilon**2*(eta**3/3*eta_zzzz + eta**2*eta_z*eta_zzz)\n",
    "    equations[-1] = np.trapz(eta, collocation_points) - L\n",
    "    \n",
    "    return equations\n",
    "\n",
    "vec_sol = scipy.optimize.fsolve(f_solitary_wave,  vec_guess)\n",
    "a_sol = vec_sol[:N]; b_sol =  vec_sol[N:(M-2)]; A = vec_sol[M-2]; c = vec_sol[-1]\n",
    "\n"
   ]
  }
 ],
 "metadata": {
  "kernelspec": {
   "display_name": "Python 3 (ipykernel)",
   "language": "python",
   "name": "python3"
  },
  "language_info": {
   "codemirror_mode": {
    "name": "ipython",
    "version": 3
   },
   "file_extension": ".py",
   "mimetype": "text/x-python",
   "name": "python",
   "nbconvert_exporter": "python",
   "pygments_lexer": "ipython3",
   "version": "3.9.7"
  }
 },
 "nbformat": 4,
 "nbformat_minor": 5
}

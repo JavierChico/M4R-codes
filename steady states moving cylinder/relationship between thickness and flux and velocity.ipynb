{
 "cells": [
  {
   "cell_type": "code",
   "execution_count": 1,
   "id": "f4b6cde7",
   "metadata": {},
   "outputs": [],
   "source": [
    "import numpy as np\n",
    "import matplotlib.pyplot as plt\n",
    "import scipy\n",
    "import scipy.optimize"
   ]
  },
  {
   "cell_type": "markdown",
   "id": "1d9d65ef",
   "metadata": {},
   "source": [
    "Assuming the fluid is perfectely cylindrical, then the derivatives are zero, and we have to solve a simple algebraic equation for $\\eta$ given the flux, and cylinder speed (and $\\alpha$, D and $\\epsilon$)"
   ]
  },
  {
   "cell_type": "code",
   "execution_count": 2,
   "id": "f7cddbfc",
   "metadata": {},
   "outputs": [],
   "source": [
    "epsilon = 0.1; D = 0.6; alpha = 0.95;"
   ]
  },
  {
   "cell_type": "code",
   "execution_count": 3,
   "id": "5d8ff33a",
   "metadata": {},
   "outputs": [],
   "source": [
    "def equation(eta, V, Q):\n",
    "    return 1/3*eta**3+V*alpha/2*(1+eta/alpha)**2-Q"
   ]
  },
  {
   "cell_type": "code",
   "execution_count": 62,
   "id": "ca00fdfc",
   "metadata": {},
   "outputs": [
    {
     "name": "stderr",
     "output_type": "stream",
     "text": [
      "/Users/javier/opt/anaconda3/lib/python3.9/site-packages/scipy/optimize/minpack.py:175: RuntimeWarning: The iteration is not making good progress, as measured by the \n",
      "  improvement from the last five Jacobian evaluations.\n",
      "  warnings.warn(msg, RuntimeWarning)\n",
      "/Users/javier/opt/anaconda3/lib/python3.9/site-packages/scipy/optimize/minpack.py:175: RuntimeWarning: The iteration is not making good progress, as measured by the \n",
      "  improvement from the last ten iterations.\n",
      "  warnings.warn(msg, RuntimeWarning)\n"
     ]
    }
   ],
   "source": [
    "Q_vec = np.linspace(-3,3,30)\n",
    "V_vec = np.linspace(3, -6, 50)\n",
    "etas = np.zeros((len(Q_vec), len(V_vec)))\n",
    "for j, Q in enumerate(Q_vec):\n",
    "    for k, V in enumerate(V_vec):\n",
    "        def equation(eta):\n",
    "            return 1/3*eta**3+V*alpha/2*(1+eta/alpha)**2-Q\n",
    "        \n",
    "        etas[j,k] = max(scipy.optimize.fsolve(equation, .2),0)"
   ]
  },
  {
   "cell_type": "code",
   "execution_count": 63,
   "id": "babc7fde",
   "metadata": {},
   "outputs": [
    {
     "data": {
      "text/plain": [
       "[<matplotlib.lines.Line2D at 0x7fba20726fd0>]"
      ]
     },
     "execution_count": 63,
     "metadata": {},
     "output_type": "execute_result"
    },
    {
     "data": {
      "image/png": "[encoded data removed]",
      "text/plain": [
       "<Figure size 432x288 with 2 Axes>"
      ]
     },
     "metadata": {
      "needs_background": "light"
     },
     "output_type": "display_data"
    }
   ],
   "source": [
    "Q_mesh, V_mesh = np.meshgrid(Q_vec, V_vec)\n",
    "plt.contourf(Q_mesh.T, V_mesh.T,etas, cmap='hot'); plt.colorbar()\n",
    "plt.plot(Q_vec, 2/alpha*Q_vec)"
   ]
  },
  {
   "cell_type": "code",
   "execution_count": 30,
   "id": "e229b9b1",
   "metadata": {},
   "outputs": [
    {
     "data": {
      "text/plain": [
       "0.0"
      ]
     },
     "execution_count": 30,
     "metadata": {},
     "output_type": "execute_result"
    }
   ],
   "source": []
  },
  {
   "cell_type": "code",
   "execution_count": null,
   "id": "5f419378",
   "metadata": {},
   "outputs": [],
   "source": []
  },
  {
   "cell_type": "code",
   "execution_count": null,
   "id": "c7cd56d6",
   "metadata": {},
   "outputs": [],
   "source": []
  }
 ],
 "metadata": {
  "kernelspec": {
   "display_name": "Python 3 (ipykernel)",
   "language": "python",
   "name": "python3"
  },
  "language_info": {
   "codemirror_mode": {
    "name": "ipython",
    "version": 3
   },
   "file_extension": ".py",
   "mimetype": "text/x-python",
   "name": "python",
   "nbconvert_exporter": "python",
   "pygments_lexer": "ipython3",
   "version": "3.9.7"
  }
 },
 "nbformat": 4,
 "nbformat_minor": 5
}

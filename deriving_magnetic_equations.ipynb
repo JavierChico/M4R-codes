{
 "cells": [
  {
   "cell_type": "code",
   "execution_count": 20,
   "id": "b05f18d8",
   "metadata": {},
   "outputs": [],
   "source": [
    "import numpy as np\n",
    "import sympy as sp\n",
    "from sympy import Rational"
   ]
  },
  {
   "cell_type": "code",
   "execution_count": 43,
   "id": "20840eab",
   "metadata": {},
   "outputs": [
    {
     "data": {
      "text/latex": [
       "$\\displaystyle 0$"
      ],
      "text/plain": [
       "0"
      ]
     },
     "execution_count": 43,
     "metadata": {},
     "output_type": "execute_result"
    }
   ],
   "source": [
    "r, t, z, alpha, M,s = sp.symbols('r, t, z, alpha, M, s', real=True)\n",
    "S = sp.Function('S')(z,t)\n",
    "#p = 1/S-M/S**2\n",
    "p = sp.Function('p')(z,t)\n",
    "w = -Rational(1,4)*(p.diff(z)-1)*(alpha**2-r**2+2*S**2*sp.log(r/alpha))\n",
    "u = sp.Function('w')(r,z,t)\n",
    "\n",
    "u1 = sp.simplify(sp.integrate(-(w.diff(z)*r),r)/r)\n",
    "u = sp.simplify(u1-u1.subs(r,alpha))\n",
    "u.subs(r, alpha)"
   ]
  },
  {
   "cell_type": "code",
   "execution_count": 48,
   "id": "ecaab8de",
   "metadata": {},
   "outputs": [
    {
     "data": {
      "text/latex": [
       "$\\displaystyle - \\frac{\\alpha^{3} \\frac{\\partial^{2}}{\\partial z^{2}} p{\\left(z,t \\right)}}{16} + \\frac{\\alpha^{2} r \\frac{\\partial^{2}}{\\partial z^{2}} p{\\left(z,t \\right)}}{4} + \\frac{\\alpha S^{2}{\\left(z,t \\right)} \\frac{\\partial^{2}}{\\partial z^{2}} p{\\left(z,t \\right)}}{8} + \\frac{\\alpha S{\\left(z,t \\right)} \\frac{\\partial}{\\partial z} S{\\left(z,t \\right)} \\frac{\\partial}{\\partial z} p{\\left(z,t \\right)}}{4} - \\frac{\\alpha S{\\left(z,t \\right)} \\frac{\\partial}{\\partial z} S{\\left(z,t \\right)}}{4} - \\frac{r^{3} \\frac{\\partial^{2}}{\\partial z^{2}} p{\\left(z,t \\right)}}{4} + \\frac{r S^{2}{\\left(z,t \\right)} \\log{\\left(\\frac{r}{\\alpha} \\right)} \\frac{\\partial^{2}}{\\partial z^{2}} p{\\left(z,t \\right)}}{2} + r S{\\left(z,t \\right)} \\log{\\left(\\frac{r}{\\alpha} \\right)} \\frac{\\partial}{\\partial z} S{\\left(z,t \\right)} \\frac{\\partial}{\\partial z} p{\\left(z,t \\right)} - r S{\\left(z,t \\right)} \\log{\\left(\\frac{r}{\\alpha} \\right)} \\frac{\\partial}{\\partial z} S{\\left(z,t \\right)}$"
      ],
      "text/plain": [
       "-alpha**3*Derivative(p(z, t), (z, 2))/16 + alpha**2*r*Derivative(p(z, t), (z, 2))/4 + alpha*S(z, t)**2*Derivative(p(z, t), (z, 2))/8 + alpha*S(z, t)*Derivative(S(z, t), z)*Derivative(p(z, t), z)/4 - alpha*S(z, t)*Derivative(S(z, t), z)/4 - r**3*Derivative(p(z, t), (z, 2))/4 + r*S(z, t)**2*log(r/alpha)*Derivative(p(z, t), (z, 2))/2 + r*S(z, t)*log(r/alpha)*Derivative(S(z, t), z)*Derivative(p(z, t), z) - r*S(z, t)*log(r/alpha)*Derivative(S(z, t), z)"
      ]
     },
     "execution_count": 48,
     "metadata": {},
     "output_type": "execute_result"
    }
   ],
   "source": [
    "sp.simplify((u*r).diff(r))"
   ]
  },
  {
   "cell_type": "code",
   "execution_count": 50,
   "id": "9e8ce532",
   "metadata": {},
   "outputs": [
    {
     "data": {
      "text/latex": [
       "$\\displaystyle - \\frac{\\alpha \\left(\\alpha^{2} \\frac{\\partial^{2}}{\\partial z^{2}} p{\\left(z,t \\right)} - 2 S^{2}{\\left(z,t \\right)} \\frac{\\partial^{2}}{\\partial z^{2}} p{\\left(z,t \\right)} - 4 S{\\left(z,t \\right)} \\frac{\\partial}{\\partial z} S{\\left(z,t \\right)} \\frac{\\partial}{\\partial z} p{\\left(z,t \\right)} + 4 S{\\left(z,t \\right)} \\frac{\\partial}{\\partial z} S{\\left(z,t \\right)}\\right)}{16} + \\frac{\\left(2 \\alpha^{2} \\frac{\\partial^{2}}{\\partial z^{2}} p{\\left(z,t \\right)} + 4 \\left(S{\\left(z,t \\right)} \\frac{\\partial^{2}}{\\partial z^{2}} p{\\left(z,t \\right)} + 2 \\frac{\\partial}{\\partial z} S{\\left(z,t \\right)} \\frac{\\partial}{\\partial z} p{\\left(z,t \\right)} - 2 \\frac{\\partial}{\\partial z} S{\\left(z,t \\right)}\\right) S{\\left(z,t \\right)} \\log{\\left(\\frac{S{\\left(z,t \\right)}}{\\alpha} \\right)} - 3 S^{2}{\\left(z,t \\right)} \\frac{\\partial^{2}}{\\partial z^{2}} p{\\left(z,t \\right)} - 4 S{\\left(z,t \\right)} \\frac{\\partial}{\\partial z} S{\\left(z,t \\right)} \\frac{\\partial}{\\partial z} p{\\left(z,t \\right)} + 4 S{\\left(z,t \\right)} \\frac{\\partial}{\\partial z} S{\\left(z,t \\right)}\\right) S{\\left(z,t \\right)}}{16}$"
      ],
      "text/plain": [
       "-alpha*(alpha**2*Derivative(p(z, t), (z, 2)) - 2*S(z, t)**2*Derivative(p(z, t), (z, 2)) - 4*S(z, t)*Derivative(S(z, t), z)*Derivative(p(z, t), z) + 4*S(z, t)*Derivative(S(z, t), z))/16 + (2*alpha**2*Derivative(p(z, t), (z, 2)) + 4*(S(z, t)*Derivative(p(z, t), (z, 2)) + 2*Derivative(S(z, t), z)*Derivative(p(z, t), z) - 2*Derivative(S(z, t), z))*S(z, t)*log(S(z, t)/alpha) - 3*S(z, t)**2*Derivative(p(z, t), (z, 2)) - 4*S(z, t)*Derivative(S(z, t), z)*Derivative(p(z, t), z) + 4*S(z, t)*Derivative(S(z, t), z))*S(z, t)/16"
      ]
     },
     "execution_count": 50,
     "metadata": {},
     "output_type": "execute_result"
    }
   ],
   "source": [
    "sp.simplify(u.subs(r,S))"
   ]
  },
  {
   "cell_type": "code",
   "execution_count": 76,
   "id": "02b26737",
   "metadata": {},
   "outputs": [
    {
     "data": {
      "text/latex": [
       "$\\displaystyle \\frac{16 \\eta^{4}}{3} + \\frac{16 \\alpha \\eta^{3}}{3} + O\\left(\\eta^{5}\\right)$"
      ],
      "text/plain": [
       "16*eta**4/3 + 16*alpha*eta**3/3 + O(eta**5)"
      ]
     },
     "execution_count": 76,
     "metadata": {},
     "output_type": "execute_result"
    }
   ],
   "source": [
    "\n",
    "eta = sp.Function('eta')(z,t)\n",
    "eta = sp.symbols('eta')\n",
    "S = alpha*(1+eta/alpha)\n",
    "p = 1/S-M/S**2\n",
    "sp.series(2*S**2*(alpha**2-S**2+2*S**2*sp.log(S/alpha))-(alpha**2-S**2)**2, eta, 0, 5)"
   ]
  },
  {
   "cell_type": "code",
   "execution_count": 96,
   "id": "712966c3",
   "metadata": {},
   "outputs": [
    {
     "data": {
      "text/latex": [
       "$\\displaystyle -2 + 4 \\log{\\left(\\frac{1}{\\alpha} \\right)} - \\left(\\alpha^{2} - 1\\right)^{2} + \\eta \\left(8 \\alpha^{2} + 16 \\log{\\left(\\frac{1}{\\alpha} \\right)} - 8\\right) + \\eta^{2} \\left(2 \\alpha^{2} - \\left(\\alpha^{2} - 1\\right)^{2} \\left(- \\frac{2}{\\alpha^{2} - 1} + \\frac{4}{\\left(\\alpha^{2} - 1\\right)^{2}}\\right) + 24 \\log{\\left(\\frac{1}{\\alpha} \\right)} + 2\\right) + \\eta^{3} \\left(16 \\log{\\left(\\frac{1}{\\alpha} \\right)} + \\frac{16}{3}\\right) + \\eta^{4} \\left(4 \\log{\\left(\\frac{1}{\\alpha} \\right)} + \\frac{16}{3}\\right) + 2 \\alpha^{2} + O\\left(\\eta^{5}\\right)$"
      ],
      "text/plain": [
       "-2 + 4*log(1/alpha) - (alpha**2 - 1)**2 + eta*(8*alpha**2 + 16*log(1/alpha) - 8) + eta**2*(2*alpha**2 - (alpha**2 - 1)**2*(-2/(alpha**2 - 1) + 4/(alpha**2 - 1)**2) + 24*log(1/alpha) + 2) + eta**3*(16*log(1/alpha) + 16/3) + eta**4*(4*log(1/alpha) + 16/3) + 2*alpha**2 + O(eta**5)"
      ]
     },
     "execution_count": 96,
     "metadata": {},
     "output_type": "execute_result"
    }
   ],
   "source": [
    "# S = 1 + eta expansion\n",
    "S = 1+ eta\n",
    "p = 1/S-M/S**2\n",
    "sp.series(2*S**2*(alpha**2-S**2+2*S**2*sp.log(S/alpha))-(alpha**2-S**2)**2, eta, 0, 5)"
   ]
  },
  {
   "cell_type": "code",
   "execution_count": 99,
   "id": "28d6f554",
   "metadata": {},
   "outputs": [
    {
     "data": {
      "text/plain": [
       "[<matplotlib.lines.Line2D at 0x7fdd601616a0>]"
      ]
     },
     "execution_count": 99,
     "metadata": {},
     "output_type": "execute_result"
    },
    {
     "data": {
      "image/png": "[encoded data removed]",
      "text/plain": [
       "<Figure size 432x288 with 1 Axes>"
      ]
     },
     "metadata": {
      "needs_background": "light"
     },
     "output_type": "display_data"
    }
   ],
   "source": [
    "import matplotlib.pyplot as plt\n",
    "alpha = np.linspace(0.1,1, 100)\n",
    "plt.plot(alpha, (alpha**2-1)**2-2*(alpha**2-1-2*np.log(alpha)))"
   ]
  },
  {
   "cell_type": "code",
   "execution_count": 131,
   "id": "934070d6",
   "metadata": {},
   "outputs": [
    {
     "data": {
      "text/latex": [
       "$\\displaystyle \\frac{\\partial}{\\partial r} \\operatorname{u_{0}}{\\left(r,z,t \\right)}$"
      ],
      "text/plain": [
       "Derivative(u_0(r, z, t), r)"
      ]
     },
     "execution_count": 131,
     "metadata": {},
     "output_type": "execute_result"
    }
   ],
   "source": [
    "### Expansion of the solutions\n",
    "epsilon,M,R,r,t,z = sp.symbols('epsilon,M,R,r,t,z', real=True)\n",
    "u_0 = sp.Function('u_0')(r,z,t);u_1 = sp.Function('u_1')(r,z,t);u_2 = sp.Function('u_2')(r,z,t);\n",
    "w_0 = sp.Function('w_0')(r,z,t);w_1 = sp.Function('w_1')(r,z,t);w_2 = sp.Function('w_2')(r,z,t);\n",
    "p_0 = sp.Function('p_0')(r,z,t);p_1 = sp.Function('p_1')(r,z,t);p_2 = sp.Function('p_2')(r,z,t);\n",
    "S_1 = sp.Function('S_1')(r,z,t);S_2 = sp.Function('S_2')(r,z,t);\n",
    "u = u_0+epsilon*u_1+epsilon**2*u_2\n",
    "w = w_0+epsilon*w_1+epsilon**2*w_2\n",
    "p = p_0+epsilon*p_1+epsilon**2*p_2\n",
    "S = sp.Function('f')(t) + epsilon*S_1 + epsilon**2*S_2\n",
    "u_0.diff(r)"
   ]
  },
  {
   "cell_type": "code",
   "execution_count": 132,
   "id": "cf971ac7",
   "metadata": {},
   "outputs": [
    {
     "data": {
      "text/latex": [
       "$\\displaystyle \\frac{\\operatorname{u_{0}}{\\left(r,z,t \\right)}}{r} + \\frac{\\partial}{\\partial z} \\operatorname{w_{0}}{\\left(r,z,t \\right)} + \\frac{\\partial}{\\partial r} \\operatorname{u_{0}}{\\left(r,z,t \\right)} + \\epsilon \\left(\\frac{\\partial}{\\partial r} \\operatorname{u_{1}}{\\left(r,z,t \\right)} + \\frac{\\partial}{\\partial z} \\operatorname{w_{1}}{\\left(r,z,t \\right)} + \\frac{\\operatorname{u_{1}}{\\left(r,z,t \\right)}}{r}\\right) + O\\left(\\epsilon^{2}\\right)$"
      ],
      "text/plain": [
       "u_0(r, z, t)/r + Derivative(w_0(r, z, t), z) + Derivative(u_0(r, z, t), r) + epsilon*(Derivative(u_1(r, z, t), r) + Derivative(w_1(r, z, t), z) + u_1(r, z, t)/r) + O(epsilon**2)"
      ]
     },
     "execution_count": 132,
     "metadata": {},
     "output_type": "execute_result"
    }
   ],
   "source": [
    "##continuity equation\n",
    "continuity = (r*u).diff(r)/r+w.diff(z)\n",
    "sp.series((r*u).diff(r)/r+w.diff(z), epsilon, 0,2)"
   ]
  },
  {
   "cell_type": "code",
   "execution_count": 133,
   "id": "caa49d44",
   "metadata": {},
   "outputs": [
    {
     "data": {
      "text/latex": [
       "$\\displaystyle \\frac{\\partial}{\\partial r} \\operatorname{p_{0}}{\\left(r,z,t \\right)} + \\epsilon \\frac{\\partial}{\\partial r} \\operatorname{p_{1}}{\\left(r,z,t \\right)} + \\epsilon^{2} \\left(R \\operatorname{u_{0}}{\\left(r,z,t \\right)} \\frac{\\partial}{\\partial r} \\operatorname{u_{0}}{\\left(r,z,t \\right)} + R \\operatorname{w_{0}}{\\left(r,z,t \\right)} \\frac{\\partial}{\\partial z} \\operatorname{u_{0}}{\\left(r,z,t \\right)} + R \\frac{\\partial}{\\partial t} \\operatorname{u_{0}}{\\left(r,z,t \\right)} + \\frac{\\partial}{\\partial r} \\operatorname{p_{2}}{\\left(r,z,t \\right)} - \\frac{\\partial^{2}}{\\partial r^{2}} \\operatorname{u_{0}}{\\left(r,z,t \\right)} - \\frac{\\frac{\\partial}{\\partial r} \\operatorname{u_{0}}{\\left(r,z,t \\right)}}{r} + \\frac{\\operatorname{u_{0}}{\\left(r,z,t \\right)}}{r^{2}}\\right) + O\\left(\\epsilon^{3}\\right)$"
      ],
      "text/plain": [
       "Derivative(p_0(r, z, t), r) + epsilon*Derivative(p_1(r, z, t), r) + epsilon**2*(R*u_0(r, z, t)*Derivative(u_0(r, z, t), r) + R*w_0(r, z, t)*Derivative(u_0(r, z, t), z) + R*Derivative(u_0(r, z, t), t) + Derivative(p_2(r, z, t), r) - Derivative(u_0(r, z, t), (r, 2)) - Derivative(u_0(r, z, t), r)/r + u_0(r, z, t)/r**2) + O(epsilon**3)"
      ]
     },
     "execution_count": 133,
     "metadata": {},
     "output_type": "execute_result"
    }
   ],
   "source": [
    "## NS in the r direction\n",
    "Ns_r = epsilon**2*R*(u.diff(t)+u*u.diff(r)+w*u.diff(z))+p.diff(r)\n",
    "Ns_r += -epsilon**2*(u.diff(r).diff(r)+epsilon**2*u.diff(z).diff(z)+u.diff(r)/r-u/r**2)\n",
    "sp.series(Ns_r, epsilon, 0, 3)"
   ]
  },
  {
   "cell_type": "code",
   "execution_count": 134,
   "id": "95334e4d",
   "metadata": {},
   "outputs": [
    {
     "data": {
      "text/latex": [
       "$\\displaystyle - \\frac{\\frac{\\partial}{\\partial r} \\operatorname{w_{0}}{\\left(r,z,t \\right)}}{r} - 1 - \\frac{\\partial^{2}}{\\partial r^{2}} \\operatorname{w_{0}}{\\left(r,z,t \\right)} + \\frac{\\partial}{\\partial z} \\operatorname{p_{0}}{\\left(r,z,t \\right)} + \\epsilon \\left(\\frac{\\partial}{\\partial z} \\operatorname{p_{1}}{\\left(r,z,t \\right)} - \\frac{\\partial^{2}}{\\partial r^{2}} \\operatorname{w_{1}}{\\left(r,z,t \\right)} - \\frac{\\frac{\\partial}{\\partial r} \\operatorname{w_{1}}{\\left(r,z,t \\right)}}{r}\\right) + \\epsilon^{2} \\left(R \\operatorname{u_{0}}{\\left(r,z,t \\right)} \\frac{\\partial}{\\partial r} \\operatorname{w_{0}}{\\left(r,z,t \\right)} + R \\operatorname{w_{0}}{\\left(r,z,t \\right)} \\frac{\\partial}{\\partial z} \\operatorname{w_{0}}{\\left(r,z,t \\right)} + R \\frac{\\partial}{\\partial t} \\operatorname{w_{0}}{\\left(r,z,t \\right)} + \\frac{\\partial}{\\partial z} \\operatorname{p_{2}}{\\left(r,z,t \\right)} - \\frac{\\partial^{2}}{\\partial z^{2}} \\operatorname{w_{0}}{\\left(r,z,t \\right)} - \\frac{\\partial^{2}}{\\partial r^{2}} \\operatorname{w_{2}}{\\left(r,z,t \\right)} - \\frac{\\frac{\\partial}{\\partial r} \\operatorname{w_{2}}{\\left(r,z,t \\right)}}{r}\\right) + O\\left(\\epsilon^{3}\\right)$"
      ],
      "text/plain": [
       "-Derivative(w_0(r, z, t), r)/r - 1 - Derivative(w_0(r, z, t), (r, 2)) + Derivative(p_0(r, z, t), z) + epsilon*(Derivative(p_1(r, z, t), z) - Derivative(w_1(r, z, t), (r, 2)) - Derivative(w_1(r, z, t), r)/r) + epsilon**2*(R*u_0(r, z, t)*Derivative(w_0(r, z, t), r) + R*w_0(r, z, t)*Derivative(w_0(r, z, t), z) + R*Derivative(w_0(r, z, t), t) + Derivative(p_2(r, z, t), z) - Derivative(w_0(r, z, t), (z, 2)) - Derivative(w_2(r, z, t), (r, 2)) - Derivative(w_2(r, z, t), r)/r) + O(epsilon**3)"
      ]
     },
     "execution_count": 134,
     "metadata": {},
     "output_type": "execute_result"
    }
   ],
   "source": [
    "## NS in the z direction\n",
    "Ns_z = epsilon**2*R*(w.diff(t)+u*w.diff(r)+w*w.diff(z))-1+p.diff(z)\n",
    "Ns_z+= -w.diff(r).diff(r)-1/r*w.diff(r)-epsilon**2*w.diff(z).diff(z)\n",
    "sp.series(Ns_z, epsilon, 0, 3)"
   ]
  },
  {
   "cell_type": "code",
   "execution_count": 135,
   "id": "07b8491a",
   "metadata": {},
   "outputs": [
    {
     "data": {
      "text/latex": [
       "$\\displaystyle \\frac{\\partial}{\\partial r} \\operatorname{w_{0}}{\\left(r,z,t \\right)} + \\epsilon \\frac{\\partial}{\\partial r} \\operatorname{w_{1}}{\\left(r,z,t \\right)} + \\epsilon^{2} \\left(\\frac{\\partial}{\\partial z} \\operatorname{u_{0}}{\\left(r,z,t \\right)} + \\frac{\\partial}{\\partial r} \\operatorname{w_{2}}{\\left(r,z,t \\right)}\\right) + O\\left(\\epsilon^{3}\\right)$"
      ],
      "text/plain": [
       "Derivative(w_0(r, z, t), r) + epsilon*Derivative(w_1(r, z, t), r) + epsilon**2*(Derivative(u_0(r, z, t), z) + Derivative(w_2(r, z, t), r)) + O(epsilon**3)"
      ]
     },
     "execution_count": 135,
     "metadata": {},
     "output_type": "execute_result"
    }
   ],
   "source": [
    "#tangential stress\n",
    "tang_stress = (1-epsilon**2*S.diff(z)**2)*(epsilon**2*u.diff(z)+w.diff(r))\n",
    "tang_stress += 2*epsilon**2*S.diff(z)*(u.diff(r)-w.diff(z))\n",
    "sp.series(tang_stress, epsilon, 0,3)"
   ]
  },
  {
   "cell_type": "code",
   "execution_count": 136,
   "id": "579e838d",
   "metadata": {},
   "outputs": [
    {
     "data": {
      "text/latex": [
       "$\\displaystyle - \\frac{1}{f{\\left(t \\right)}} + \\operatorname{p_{0}}{\\left(r,z,t \\right)} + \\frac{M}{f^{2}{\\left(t \\right)}} + O\\left(\\epsilon\\right)$"
      ],
      "text/plain": [
       "-1/f(t) + p_0(r, z, t) + M/f(t)**2 + O(epsilon)"
      ]
     },
     "execution_count": 136,
     "metadata": {},
     "output_type": "execute_result"
    }
   ],
   "source": [
    "#normal stress\n",
    "viscous_stress = 2*epsilon**2/(1+epsilon**2*S.diff(z)**2)*(epsilon**2*S.diff(z)**2*w.diff(z)-2*S.diff(z)*(w.diff(r)+epsilon**2*u.diff(z))+u.diff(r))\n",
    "\n",
    "surface_tension = 1/sp.sqrt(1+epsilon**2*S.diff(z)**2)*(1/S-epsilon**2*S.diff(z).diff(z)/(1+epsilon**2*S.diff(z)**2))\n",
    "\n",
    "\n",
    "norm_stress = p - viscous_stress-surface_tension + M/S**2\n",
    "sp.series(norm_stress, epsilon, 0, 1)"
   ]
  },
  {
   "cell_type": "code",
   "execution_count": 137,
   "id": "d9a85ff6",
   "metadata": {},
   "outputs": [
    {
     "data": {
      "text/latex": [
       "$\\displaystyle \\frac{d}{d t} f{\\left(t \\right)} - \\operatorname{u_{0}}{\\left(r,z,t \\right)} + \\epsilon \\left(- \\operatorname{u_{1}}{\\left(r,z,t \\right)} + \\operatorname{w_{0}}{\\left(r,z,t \\right)} \\frac{\\partial}{\\partial z} \\operatorname{S_{1}}{\\left(r,z,t \\right)} + \\frac{\\partial}{\\partial t} \\operatorname{S_{1}}{\\left(r,z,t \\right)}\\right) + \\epsilon^{2} \\left(- \\operatorname{u_{2}}{\\left(r,z,t \\right)} + \\operatorname{w_{0}}{\\left(r,z,t \\right)} \\frac{\\partial}{\\partial z} \\operatorname{S_{2}}{\\left(r,z,t \\right)} + \\operatorname{w_{1}}{\\left(r,z,t \\right)} \\frac{\\partial}{\\partial z} \\operatorname{S_{1}}{\\left(r,z,t \\right)} + \\frac{\\partial}{\\partial t} \\operatorname{S_{2}}{\\left(r,z,t \\right)}\\right) + O\\left(\\epsilon^{3}\\right)$"
      ],
      "text/plain": [
       "Derivative(f(t), t) - u_0(r, z, t) + epsilon*(-u_1(r, z, t) + w_0(r, z, t)*Derivative(S_1(r, z, t), z) + Derivative(S_1(r, z, t), t)) + epsilon**2*(-u_2(r, z, t) + w_0(r, z, t)*Derivative(S_2(r, z, t), z) + w_1(r, z, t)*Derivative(S_1(r, z, t), z) + Derivative(S_2(r, z, t), t)) + O(epsilon**3)"
      ]
     },
     "execution_count": 137,
     "metadata": {},
     "output_type": "execute_result"
    }
   ],
   "source": [
    "##kinematic condition\n",
    "kinematic = S.diff(t)+w*S.diff(z)-u\n",
    "sp.series(kinematic, epsilon, 0, 3)"
   ]
  },
  {
   "cell_type": "code",
   "execution_count": null,
   "id": "393046d0",
   "metadata": {},
   "outputs": [],
   "source": []
  }
 ],
 "metadata": {
  "kernelspec": {
   "display_name": "Python 3 (ipykernel)",
   "language": "python",
   "name": "python3"
  },
  "language_info": {
   "codemirror_mode": {
    "name": "ipython",
    "version": 3
   },
   "file_extension": ".py",
   "mimetype": "text/x-python",
   "name": "python",
   "nbconvert_exporter": "python",
   "pygments_lexer": "ipython3",
   "version": "3.9.7"
  }
 },
 "nbformat": 4,
 "nbformat_minor": 5
}

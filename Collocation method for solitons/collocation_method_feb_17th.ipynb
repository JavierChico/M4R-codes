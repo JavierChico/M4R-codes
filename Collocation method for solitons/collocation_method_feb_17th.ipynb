{
 "cells": [
  {
   "cell_type": "code",
   "execution_count": 1,
   "id": "c5f9537b",
   "metadata": {},
   "outputs": [],
   "source": [
    "import numpy as np\n",
    "import matplotlib.pyplot as plt\n",
    "import scipy\n",
    "import scipy.optimize"
   ]
  },
  {
   "cell_type": "code",
   "execution_count": 49,
   "id": "a6d0d498",
   "metadata": {},
   "outputs": [
    {
     "name": "stdout",
     "output_type": "stream",
     "text": [
      "81\n",
      "81\n",
      "[ 1  2  3  4  5  6  7  8  9 10 11 12 13 14 15 16 17 18 19 20 21 22 23 24\n",
      " 25 26 27 28 29 30 31 32 33 34 35 36 37 38 39 40]\n",
      "30.00000000000003\n",
      "[ 5.51016615 -3.18538181  2.15674089  0.72652521 -3.23988491  0.02517257\n",
      " -4.18573751  3.59088504  4.98682177 -5.37178807 -0.5750451   3.90930595\n",
      "  3.52833767  0.85967504  5.99923956  5.38502247  1.36711919 -3.72597587\n",
      "  4.702311    1.27338844 -2.74204728  0.06169765  1.94647951  0.17729211\n",
      " -0.93333919  1.16835511 -1.88465691 -4.4912195  -4.13638237 -4.70863333\n",
      "  0.28928066 -1.58381395  5.63641862  0.67828165 -2.27960291  0.18713778\n",
      "  1.31200459 -4.19546532  5.28092018  3.98783332 -1.95377071  0.45838394\n",
      " -2.46427663  2.87764139  3.41238178  4.56846469 -1.70564307 -3.30355951\n",
      " -1.7807693  -4.20372332 -2.16041019 -3.61554586  3.75924058  2.85936419\n",
      " -3.24233128  3.93904208  6.08710107 -5.79936091 -1.18856092  4.46614527\n",
      " -2.45119199 -0.63345079  0.55603622 -5.63908568 -5.2316529  -3.20908915\n",
      " -3.19223087 -0.87437791  3.2852093   5.77255951 -2.77498483 -5.289777\n",
      " -4.55538177 -5.22928142  4.89115422  4.12746708  3.07694952 -0.83074025\n",
      "  1.43746388 -3.30665377 -5.84076459]\n"
     ]
    }
   ],
   "source": [
    "N = 40; n = np.arange(1,N+1); M = 2*N + 1\n",
    "L = 2*np.pi\n",
    "\n",
    "Delta = L/(M+1)\n",
    "collocation_points = 2*(np.random.random(M)-1/2)*2*L/2 #np.linspace(-L/2, L/2-Delta, M)\n",
    "print(len(collocation_points))\n",
    "print(M)\n",
    "epsilon = 0.1; D = 0.6; alpha = 0.95; \n",
    "print(n)\n",
    "Lambda = 15\n",
    "A = (1-alpha)*Lambda*40\n",
    "print(A)\n",
    "print(collocation_points)"
   ]
  },
  {
   "cell_type": "code",
   "execution_count": 50,
   "id": "4feb622e",
   "metadata": {},
   "outputs": [],
   "source": [
    "def f_solitary_wave(vec):\n",
    "    M = len(vec); N = int((M-1)/2)\n",
    "    a = np.zeros(N)\n",
    "    a[0] = 8.36599503e-01\n",
    "    \n",
    "    #print(vec)\n",
    "    a[1:] = vec[:N-1]; b = vec[N-1:(2*N-1)]; c = vec[M-2]; K = vec[-1]\n",
    "\n",
    "    eta = np.zeros_like(collocation_points); eta_z = np.zeros_like(collocation_points)\n",
    "    eta_zz = np.zeros_like(collocation_points); eta_zzz = np.zeros_like(collocation_points)\n",
    "    \n",
    "    for j,n_value in enumerate(n):\n",
    "        eta += a[j]*np.cos(2*n_value*np.pi/L*collocation_points) + b[j]*np.sin(2*n_value*np.pi/L*collocation_points) + A\n",
    "        #eta_z\n",
    "        eta_z += -a[j]*np.sin(2*n_value*np.pi/L*collocation_points)*2*n_value*np.pi/L\n",
    "        eta_z += b[j]*np.cos(2*n_value*np.pi/L*collocation_points)*2*n_value*np.pi/L\n",
    "        #eta_zz\n",
    "        eta_zz += -a[j]*np.cos(2*n_value*np.pi/L*collocation_points)*(2*n_value*np.pi/L)**2\n",
    "        eta_zz += -b[j]*np.sin(2*n_value*np.pi/L*collocation_points)*(2*n_value*np.pi/L)**2\n",
    "        #eta_zzz\n",
    "        eta_zzz += a[j]*np.sin(2*n_value*np.pi/L*collocation_points)*(2*n_value*np.pi/L)**3\n",
    "        eta_zzz += -b[j]*np.cos(2*n_value*np.pi/L*collocation_points)*(2*n_value*np.pi/L)**3\n",
    "    \n",
    "    #plt.plot(collocation_points, eta)\n",
    "    equations = np.zeros_like(vec)\n",
    "    equations = -c/eta**2 + 1/3*(1+D*eta_z+epsilon**2*eta_zzz)-K/eta**3\n",
    "    #print((equations**2).mean())\n",
    "    return equations\n",
    "\n",
    "def f_solitary_wave_no_division(vec):\n",
    "    M = len(vec); N = int((M-1)/2)\n",
    "    a = np.zeros(N)\n",
    "    a[0] = 8.36599503e-01\n",
    "    \n",
    "    #print(vec)\n",
    "    a[1:] = vec[:N-1]; b = vec[N-1:(2*N-1)]; c = vec[M-2]; K = vec[-1]\n",
    "\n",
    "    eta = np.zeros_like(collocation_points); eta_z = np.zeros_like(collocation_points)\n",
    "    eta_zz = np.zeros_like(collocation_points); eta_zzz = np.zeros_like(collocation_points)\n",
    "    \n",
    "    for j,n_value in enumerate(n):\n",
    "        eta += a[j]*np.cos(2*n_value*np.pi/L*collocation_points) + b[j]*np.sin(2*n_value*np.pi/L*collocation_points) + A\n",
    "        #eta_z\n",
    "        eta_z += -a[j]*np.sin(2*n_value*np.pi/L*collocation_points)*2*n_value*np.pi/L\n",
    "        eta_z += b[j]*np.cos(2*n_value*np.pi/L*collocation_points)*2*n_value*np.pi/L\n",
    "        #eta_zz\n",
    "        eta_zz += -a[j]*np.cos(2*n_value*np.pi/L*collocation_points)*(2*n_value*np.pi/L)**2\n",
    "        eta_zz += -b[j]*np.sin(2*n_value*np.pi/L*collocation_points)*(2*n_value*np.pi/L)**2\n",
    "        #eta_zzz\n",
    "        eta_zzz += a[j]*np.sin(2*n_value*np.pi/L*collocation_points)*(2*n_value*np.pi/L)**3\n",
    "        eta_zzz += -b[j]*np.cos(2*n_value*np.pi/L*collocation_points)*(2*n_value*np.pi/L)**3\n",
    "    \n",
    "    #plt.plot(collocation_points, eta)\n",
    "    equations = np.zeros_like(vec)\n",
    "    equations = -c*eta**2 + 1/3*eta**3*(1 + D*eta_z+epsilon**2*eta_zzz)-K\n",
    "    #print((equations**2).mean())\n",
    "    return equations"
   ]
  },
  {
   "cell_type": "code",
   "execution_count": 51,
   "id": "29d52684",
   "metadata": {},
   "outputs": [],
   "source": [
    "vec_guess = np.concatenate([np.random.random(N-1)*0.01, 0.01*np.random.random(N), np.array([1,0])])\n"
   ]
  },
  {
   "cell_type": "code",
   "execution_count": 52,
   "id": "0061d8d0",
   "metadata": {},
   "outputs": [
    {
     "name": "stdout",
     "output_type": "stream",
     "text": [
      "True\n"
     ]
    }
   ],
   "source": [
    "#vec_sol = scipy.optimize.fsolve(f_solitary_wave,  vec_guess, xtol = 1e-4)\n",
    "sol = scipy.optimize.root(f_solitary_wave_no_division,  vec_guess, method='lm')\n",
    "vec_sol = sol.x\n",
    "print(sol.success)"
   ]
  },
  {
   "cell_type": "code",
   "execution_count": 32,
   "id": "8d082c1d",
   "metadata": {},
   "outputs": [
    {
     "name": "stdout",
     "output_type": "stream",
     "text": [
      "True\n"
     ]
    }
   ],
   "source": [
    "sol = scipy.optimize.root(f_solitary_wave,  vec_guess, method='lm')\n",
    "vec_sol = sol.x\n",
    "print(sol.success)"
   ]
  },
  {
   "cell_type": "code",
   "execution_count": null,
   "id": "2beb6181",
   "metadata": {},
   "outputs": [],
   "source": []
  },
  {
   "cell_type": "code",
   "execution_count": 53,
   "id": "2eb60eaa",
   "metadata": {},
   "outputs": [
    {
     "name": "stdout",
     "output_type": "stream",
     "text": [
      "81\n",
      "81\n"
     ]
    }
   ],
   "source": [
    "a_sol = np.concatenate([np.array([8.36599503e-01]), vec_sol[:N-1]]);\n",
    "b_sol = vec_sol[N-1:(2*N-1)];\n",
    "print(M)\n",
    "print(len(vec_sol))\n",
    "c = vec_sol[M-2];\n",
    "K = vec_sol[-1]"
   ]
  },
  {
   "cell_type": "code",
   "execution_count": 54,
   "id": "d686e77f",
   "metadata": {},
   "outputs": [
    {
     "name": "stdout",
     "output_type": "stream",
     "text": [
      "30.000000000000025\n"
     ]
    },
    {
     "data": {
      "image/png": "[encoded data removed]",
      "text/plain": [
       "<Figure size 432x288 with 1 Axes>"
      ]
     },
     "metadata": {
      "needs_background": "light"
     },
     "output_type": "display_data"
    }
   ],
   "source": [
    "refined_z = np.linspace(-L/2, L/2,1000)\n",
    "eta_sol = np.zeros_like(refined_z) + A\n",
    "for j,n_value in enumerate(n):\n",
    "    eta_sol += a_sol[j]*np.cos(n_value*2*np.pi/L*refined_z) + b_sol[j]*np.sin(n_value*2*np.pi/L*refined_z)\n",
    "plt.plot(refined_z, eta_sol)\n",
    "print(np.trapz(eta_sol, refined_z)/L)\n"
   ]
  },
  {
   "cell_type": "code",
   "execution_count": 55,
   "id": "be8034c7",
   "metadata": {},
   "outputs": [
    {
     "name": "stdout",
     "output_type": "stream",
     "text": [
      "2762.2731484821093\n"
     ]
    }
   ],
   "source": [
    "print(c)"
   ]
  },
  {
   "cell_type": "code",
   "execution_count": 56,
   "id": "ae558ed2",
   "metadata": {},
   "outputs": [
    {
     "name": "stdout",
     "output_type": "stream",
     "text": [
      "-3142528080.944258\n"
     ]
    }
   ],
   "source": [
    "print(K)"
   ]
  },
  {
   "cell_type": "code",
   "execution_count": 11,
   "id": "b0ec0f92",
   "metadata": {},
   "outputs": [
    {
     "data": {
      "text/plain": [
       "[<matplotlib.lines.Line2D at 0x7fc05034d6a0>]"
      ]
     },
     "execution_count": 11,
     "metadata": {},
     "output_type": "execute_result"
    },
    {
     "data": {
      "image/png": "[encoded data removed]",
      "text/plain": [
       "<Figure size 432x288 with 1 Axes>"
      ]
     },
     "metadata": {
      "needs_background": "light"
     },
     "output_type": "display_data"
    }
   ],
   "source": [
    "plt.semilogy(n, abs(a_sol), '.')\n",
    "plt.semilogy(n, abs(b_sol), '.')"
   ]
  },
  {
   "cell_type": "code",
   "execution_count": 316,
   "id": "8aa7415b",
   "metadata": {},
   "outputs": [
    {
     "data": {
      "text/plain": [
       "array([ 8.36599503e-01, -2.71724997e-02,  1.31808115e-03, -7.94236568e-05,\n",
       "        3.91090383e-05,  5.29465027e-06, -3.88034355e-05, -7.11768072e-05,\n",
       "        7.70067549e-05, -1.00817368e-06, -4.02738673e-06, -6.41858158e-06,\n",
       "        1.34719438e-06,  7.90731931e-07, -5.20623071e-07,  2.62559171e-06,\n",
       "        1.93771911e-07,  3.75021838e-07, -4.54558660e-07, -3.55970266e-07,\n",
       "        2.02251843e-07, -2.25951647e-07,  1.97214879e-06,  6.11316482e-07,\n",
       "        4.79313755e-08,  4.74933060e-07, -3.97109956e-07, -9.88007449e-08,\n",
       "        5.04559220e-08,  5.94536465e-08, -4.84595719e-08, -2.01933738e-07,\n",
       "        1.15935195e-07, -7.49780426e-08,  1.46323753e-07, -6.22235551e-08,\n",
       "       -5.06100703e-08, -3.02286613e-08, -2.63896529e-08, -3.48470599e-08])"
      ]
     },
     "execution_count": 316,
     "metadata": {},
     "output_type": "execute_result"
    }
   ],
   "source": [
    "a_sol"
   ]
  },
  {
   "cell_type": "code",
   "execution_count": null,
   "id": "c06418e2",
   "metadata": {},
   "outputs": [],
   "source": []
  },
  {
   "cell_type": "code",
   "execution_count": null,
   "id": "311431a7",
   "metadata": {},
   "outputs": [],
   "source": []
  }
 ],
 "metadata": {
  "kernelspec": {
   "display_name": "Python 3 (ipykernel)",
   "language": "python",
   "name": "python3"
  },
  "language_info": {
   "codemirror_mode": {
    "name": "ipython",
    "version": 3
   },
   "file_extension": ".py",
   "mimetype": "text/x-python",
   "name": "python",
   "nbconvert_exporter": "python",
   "pygments_lexer": "ipython3",
   "version": "3.9.7"
  }
 },
 "nbformat": 4,
 "nbformat_minor": 5
}

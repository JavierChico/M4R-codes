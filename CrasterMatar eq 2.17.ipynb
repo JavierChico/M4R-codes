{
 "cells": [
  {
   "cell_type": "code",
   "execution_count": 1,
   "id": "c82087c9",
   "metadata": {},
   "outputs": [],
   "source": [
    "import sympy as sp"
   ]
  },
  {
   "cell_type": "code",
   "execution_count": 53,
   "id": "248669fd",
   "metadata": {},
   "outputs": [
    {
     "data": {
      "text/latex": [
       "$\\displaystyle - \\alpha^{4} \\frac{d^{2}}{d z^{2}} p{\\left(z \\right)} + 4 \\alpha^{2} S^{2}{\\left(z,t \\right)} \\frac{d^{2}}{d z^{2}} p{\\left(z \\right)} + 8.0 \\alpha^{2} S{\\left(z,t \\right)} \\frac{\\partial}{\\partial z} S{\\left(z,t \\right)} \\frac{d}{d z} p{\\left(z \\right)} - 8.0 \\alpha^{2} S{\\left(z,t \\right)} \\frac{\\partial}{\\partial z} S{\\left(z,t \\right)} + 4 S^{4}{\\left(z,t \\right)} \\log{\\left(\\frac{S{\\left(z,t \\right)}}{\\alpha} \\right)} \\frac{d^{2}}{d z^{2}} p{\\left(z \\right)} - 3 S^{4}{\\left(z,t \\right)} \\frac{d^{2}}{d z^{2}} p{\\left(z \\right)} + 16.0 S^{3}{\\left(z,t \\right)} \\log{\\left(\\frac{S{\\left(z,t \\right)}}{\\alpha} \\right)} \\frac{\\partial}{\\partial z} S{\\left(z,t \\right)} \\frac{d}{d z} p{\\left(z \\right)} - 16.0 S^{3}{\\left(z,t \\right)} \\log{\\left(\\frac{S{\\left(z,t \\right)}}{\\alpha} \\right)} \\frac{\\partial}{\\partial z} S{\\left(z,t \\right)} - 8.0 S^{3}{\\left(z,t \\right)} \\frac{\\partial}{\\partial z} S{\\left(z,t \\right)} \\frac{d}{d z} p{\\left(z \\right)} + 8.0 S^{3}{\\left(z,t \\right)} \\frac{\\partial}{\\partial z} S{\\left(z,t \\right)}$"
      ],
      "text/plain": [
       "-alpha**4*Derivative(p(z), (z, 2)) + 4*alpha**2*S(z, t)**2*Derivative(p(z), (z, 2)) + 8.0*alpha**2*S(z, t)*Derivative(S(z, t), z)*Derivative(p(z), z) - 8.0*alpha**2*S(z, t)*Derivative(S(z, t), z) + 4*S(z, t)**4*log(S(z, t)/alpha)*Derivative(p(z), (z, 2)) - 3*S(z, t)**4*Derivative(p(z), (z, 2)) + 16.0*S(z, t)**3*log(S(z, t)/alpha)*Derivative(S(z, t), z)*Derivative(p(z), z) - 16.0*S(z, t)**3*log(S(z, t)/alpha)*Derivative(S(z, t), z) - 8.0*S(z, t)**3*Derivative(S(z, t), z)*Derivative(p(z), z) + 8.0*S(z, t)**3*Derivative(S(z, t), z)"
      ]
     },
     "execution_count": 53,
     "metadata": {},
     "output_type": "execute_result"
    }
   ],
   "source": [
    "z,t,alpha,eta,epsilon = sp.symbols('z,t,alpha,eta, epsilon')\n",
    "S = sp.Function('S')(z,t)\n",
    "p = sp.Function('p')(z)\n",
    "F = (alpha**2-S**2+2*S**2*sp.log(S/alpha))\n",
    "w = -1/4*(p.diff(z)-1)*F\n",
    "u = (S**2*(p.diff(z)-1)).diff(z)/(8*S)*F-p.diff(z).diff(z)/(16*S)*(alpha**2-S**2)**2\n",
    "## we know this is equal to 8(S^2)_t\n",
    "sp.expand(sp.simplify(16*S*(u-w*S.diff(z))))"
   ]
  },
  {
   "cell_type": "code",
   "execution_count": 54,
   "id": "0dbe1954",
   "metadata": {},
   "outputs": [
    {
     "data": {
      "text/latex": [
       "$\\displaystyle - \\alpha^{4} \\frac{d^{2}}{d z^{2}} p{\\left(z \\right)} + 4 \\alpha^{2} S^{2}{\\left(z,t \\right)} \\frac{d^{2}}{d z^{2}} p{\\left(z \\right)} + 8 \\alpha^{2} S{\\left(z,t \\right)} \\frac{\\partial}{\\partial z} S{\\left(z,t \\right)} \\frac{d}{d z} p{\\left(z \\right)} - 8 \\alpha^{2} S{\\left(z,t \\right)} \\frac{\\partial}{\\partial z} S{\\left(z,t \\right)} + 4 S^{4}{\\left(z,t \\right)} \\log{\\left(\\frac{S{\\left(z,t \\right)}}{\\alpha} \\right)} \\frac{d^{2}}{d z^{2}} p{\\left(z \\right)} - 3 S^{4}{\\left(z,t \\right)} \\frac{d^{2}}{d z^{2}} p{\\left(z \\right)} + 16 S^{3}{\\left(z,t \\right)} \\log{\\left(\\frac{S{\\left(z,t \\right)}}{\\alpha} \\right)} \\frac{\\partial}{\\partial z} S{\\left(z,t \\right)} \\frac{d}{d z} p{\\left(z \\right)} - 16 S^{3}{\\left(z,t \\right)} \\log{\\left(\\frac{S{\\left(z,t \\right)}}{\\alpha} \\right)} \\frac{\\partial}{\\partial z} S{\\left(z,t \\right)} - 8 S^{3}{\\left(z,t \\right)} \\frac{\\partial}{\\partial z} S{\\left(z,t \\right)} \\frac{d}{d z} p{\\left(z \\right)} + 8 S^{3}{\\left(z,t \\right)} \\frac{\\partial}{\\partial z} S{\\left(z,t \\right)}$"
      ],
      "text/plain": [
       "-alpha**4*Derivative(p(z), (z, 2)) + 4*alpha**2*S(z, t)**2*Derivative(p(z), (z, 2)) + 8*alpha**2*S(z, t)*Derivative(S(z, t), z)*Derivative(p(z), z) - 8*alpha**2*S(z, t)*Derivative(S(z, t), z) + 4*S(z, t)**4*log(S(z, t)/alpha)*Derivative(p(z), (z, 2)) - 3*S(z, t)**4*Derivative(p(z), (z, 2)) + 16*S(z, t)**3*log(S(z, t)/alpha)*Derivative(S(z, t), z)*Derivative(p(z), z) - 16*S(z, t)**3*log(S(z, t)/alpha)*Derivative(S(z, t), z) - 8*S(z, t)**3*Derivative(S(z, t), z)*Derivative(p(z), z) + 8*S(z, t)**3*Derivative(S(z, t), z)"
      ]
     },
     "execution_count": 54,
     "metadata": {},
     "output_type": "execute_result"
    }
   ],
   "source": [
    "## equation 2.17 claims this is equal to 8(S^2)_t\n",
    "sp.expand(((p.diff(z)-1)*(2*S**2*F-(alpha**2-S**2)**2)).diff(z))"
   ]
  },
  {
   "cell_type": "code",
   "execution_count": 66,
   "id": "944ad39f",
   "metadata": {},
   "outputs": [],
   "source": [
    "#eta = sp.Function('eta')(z)\n",
    "eta_expr = (((1/S-epsilon**2*S.diff(z).diff(z))-1).diff(z)*(2*S**2*F-(alpha**2-S**2)**2)).subs(S, alpha+sp.Function('eta')(z))\n"
   ]
  },
  {
   "cell_type": "code",
   "execution_count": 81,
   "id": "6d4f1cc3",
   "metadata": {},
   "outputs": [
    {
     "data": {
      "text/latex": [
       "$\\displaystyle 0.5 i k - 1.0 i k \\log{\\left(\\frac{1}{\\alpha} \\right)} - 0.1875 k^{2} + 0.25 k^{2} \\log{\\left(\\frac{1}{\\alpha} \\right)} + 0.1875 \\epsilon^{2} k^{4} - 0.25 \\epsilon^{2} k^{4} \\log{\\left(\\frac{1}{\\alpha} \\right)} - 0.5 i \\alpha^{2} k + 0.25 \\alpha^{2} k^{2} - 0.25 \\alpha^{2} \\epsilon^{2} k^{4} - 0.0625 \\alpha^{4} k^{2} + 0.0625 \\alpha^{4} \\epsilon^{2} k^{4} + O\\left(\\phi\\right)$"
      ],
      "text/plain": [
       "0.5*I*k - 1.0*I*k*log(1/alpha) - 0.1875*k**2 + 0.25*k**2*log(1/alpha) + 0.1875*epsilon**2*k**4 - 0.25*epsilon**2*k**4*log(1/alpha) - 0.5*I*alpha**2*k + 0.25*alpha**2*k**2 - 0.25*alpha**2*epsilon**2*k**4 - 0.0625*alpha**4*k**2 + 0.0625*alpha**4*epsilon**2*k**4 + O(phi)"
      ]
     },
     "execution_count": 81,
     "metadata": {},
     "output_type": "execute_result"
    }
   ],
   "source": [
    "### linear analysis non Magnetic case\n",
    "z,t,alpha,eta,epsilon,phi,k,lambda_ = sp.symbols('z,t,alpha,eta, epsilon,phi,k,lambda_')\n",
    "S = 1 + phi*sp.exp(sp.I*k*z+lambda_*t)\n",
    "p = 1/S-epsilon**2*S.diff(z).diff(z)\n",
    "F = (alpha**2-S**2+2*S**2*sp.log(S/alpha))\n",
    "w = -1/4*(p.diff(z)-1)*F\n",
    "u = (S**2*(p.diff(z)-1)).diff(z)/(8*S)*F-p.diff(z).diff(z)/(16*S)*(alpha**2-S**2)**2\n",
    "sp.simplify(sp.series(u-w*S.diff(z), phi, 0,2)/(phi*sp.exp(sp.I*k*z+lambda_*t)))"
   ]
  },
  {
   "cell_type": "code",
   "execution_count": 136,
   "id": "953e84f6",
   "metadata": {},
   "outputs": [
    {
     "data": {
      "text/latex": [
       "$\\displaystyle \\log{\\left(\\alpha^{k^{2} \\left(0.5 M + 0.25 \\epsilon^{2} k^{2} - 0.25\\right)} \\right)} + i \\log{\\left(\\alpha^{1.0 k} \\right)} + 0.5 i k - 0.1875 k^{2} + 0.1875 \\epsilon^{2} k^{4} - 0.5 i \\alpha^{2} k + 0.25 \\alpha^{2} k^{2} - 0.25 \\alpha^{2} \\epsilon^{2} k^{4} - 0.0625 \\alpha^{4} k^{2} + 0.0625 \\alpha^{4} \\epsilon^{2} k^{4} + 0.375 M k^{2} - 0.5 M \\alpha^{2} k^{2} + 0.125 M \\alpha^{4} k^{2} + O\\left(\\phi\\right)$"
      ],
      "text/plain": [
       "log(alpha**(k**2*(0.5*M + 0.25*epsilon**2*k**2 - 0.25))) + I*log(alpha**(1.0*k)) + 0.5*I*k - 0.1875*k**2 + 0.1875*epsilon**2*k**4 - 0.5*I*alpha**2*k + 0.25*alpha**2*k**2 - 0.25*alpha**2*epsilon**2*k**4 - 0.0625*alpha**4*k**2 + 0.0625*alpha**4*epsilon**2*k**4 + 0.375*M*k**2 - 0.5*M*alpha**2*k**2 + 0.125*M*alpha**4*k**2 + O(phi)"
      ]
     },
     "execution_count": 136,
     "metadata": {},
     "output_type": "execute_result"
    }
   ],
   "source": [
    "### linear analysis Magnetic case\n",
    "z,t,alpha,eta,epsilon,phi,k,lambda_, M = sp.symbols('z,t,alpha,eta, epsilon,phi,k,lambda_, M', real = True)\n",
    "alpha = sp.symbols('alpha', positive=True)\n",
    "S = 1 + phi*sp.exp(sp.I*k*z+lambda_*t)\n",
    "p = 1/S-M/S**2-epsilon**2*S.diff(z).diff(z)\n",
    "F = (alpha**2-S**2+2*S**2*sp.log(S/alpha))\n",
    "w = -1/4*(p.diff(z)-1)*F\n",
    "u = (S**2*(p.diff(z)-1)).diff(z)/(8*S)*F-p.diff(z).diff(z)/(16*S)*(alpha**2-S**2)**2\n",
    "\n",
    "sp.simplify(sp.series(u-w*S.diff(z), phi, 0,2)/(phi*sp.exp(sp.I*k*z+lambda_*t)))"
   ]
  },
  {
   "cell_type": "code",
   "execution_count": 137,
   "id": "d09b7227",
   "metadata": {},
   "outputs": [
    {
     "data": {
      "text/latex": [
       "$\\displaystyle \\log{\\left(\\alpha^{4 k^{2} \\left(2 M + \\epsilon^{2} k^{2} - 1\\right)} \\right)} + i \\log{\\left(\\alpha^{16 k} \\right)} + 8 i k - 3 k^{2} + 3 \\epsilon^{2} k^{4} - 8 i \\alpha^{2} k + 4 \\alpha^{2} k^{2} - 4 \\alpha^{2} \\epsilon^{2} k^{4} - \\alpha^{4} k^{2} + \\alpha^{4} \\epsilon^{2} k^{4} + 6 M k^{2} - 8 M \\alpha^{2} k^{2} + 2 M \\alpha^{4} k^{2} + O\\left(\\phi\\right)$"
      ],
      "text/plain": [
       "log(alpha**(4*k**2*(2*M + epsilon**2*k**2 - 1))) + I*log(alpha**(16*k)) + 8*I*k - 3*k**2 + 3*epsilon**2*k**4 - 8*I*alpha**2*k + 4*alpha**2*k**2 - 4*alpha**2*epsilon**2*k**4 - alpha**4*k**2 + alpha**4*epsilon**2*k**4 + 6*M*k**2 - 8*M*alpha**2*k**2 + 2*M*alpha**4*k**2 + O(phi)"
      ]
     },
     "execution_count": 137,
     "metadata": {},
     "output_type": "execute_result"
    }
   ],
   "source": [
    "sp.simplify(sp.series(((p.diff(z)-1)*(2*S**2*(alpha**2-S**2+2*S**2*sp.log(S/alpha))-(alpha**2-S**2)**2)).diff(z), phi, 0,2)/(phi*sp.exp(sp.I*k*z+lambda_*t)))"
   ]
  },
  {
   "cell_type": "code",
   "execution_count": 145,
   "id": "80c8b458",
   "metadata": {},
   "outputs": [
    {
     "data": {
      "text/latex": [
       "$\\displaystyle \\frac{\\sqrt{\\frac{1}{2} - M}}{\\epsilon}$"
      ],
      "text/plain": [
       "sqrt(1/2 - M)/epsilon"
      ]
     },
     "execution_count": 145,
     "metadata": {},
     "output_type": "execute_result"
    }
   ],
   "source": [
    "#most unstable node\n",
    "disp_rel = sp.simplify(sp.series(((p.diff(z)-1)*(2*S**2*(alpha**2-S**2+2*S**2*sp.log(S/alpha))-(alpha**2-S**2)**2)).diff(z), phi, 0,2)/(phi*sp.exp(sp.I*k*z+lambda_*t)))\n",
    "sp.solve(sp.re(disp_rel.diff(k)), k)[2]\n"
   ]
  },
  {
   "cell_type": "code",
   "execution_count": null,
   "id": "596c58ec",
   "metadata": {},
   "outputs": [],
   "source": []
  }
 ],
 "metadata": {
  "kernelspec": {
   "display_name": "Python 3 (ipykernel)",
   "language": "python",
   "name": "python3"
  },
  "language_info": {
   "codemirror_mode": {
    "name": "ipython",
    "version": 3
   },
   "file_extension": ".py",
   "mimetype": "text/x-python",
   "name": "python",
   "nbconvert_exporter": "python",
   "pygments_lexer": "ipython3",
   "version": "3.9.7"
  }
 },
 "nbformat": 4,
 "nbformat_minor": 5
}

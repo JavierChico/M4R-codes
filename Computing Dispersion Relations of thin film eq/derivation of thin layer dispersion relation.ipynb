{
 "cells": [
  {
   "cell_type": "code",
   "execution_count": 1,
   "id": "02013e2e",
   "metadata": {},
   "outputs": [],
   "source": [
    "import sympy as sp"
   ]
  },
  {
   "cell_type": "code",
   "execution_count": 11,
   "id": "1ceca71a",
   "metadata": {},
   "outputs": [
    {
     "data": {
      "text/latex": [
       "$\\displaystyle 1.0 i h_{0}^{2} k - 0.333333333333333 h_{0}^{3} k^{2} + 0.333333333333333 h_{0}^{3} k^{4} + 1.0 \\Lambda + O\\left(\\epsilon\\right)$"
      ],
      "text/plain": [
       "1.0*I*h_0**2*k - 0.333333333333333*h_0**3*k**2 + 0.333333333333333*h_0**3*k**4 + 1.0*Lambda + O(epsilon)"
      ]
     },
     "execution_count": 11,
     "metadata": {},
     "output_type": "execute_result"
    }
   ],
   "source": [
    "h_0,h_1,Lambda, k, z, alpha,t,epsilon = sp.symbols('h_0,h_1,Lambda, k, z, alpha,t,epsilon')\n",
    "eta = h_0 + epsilon*h_1*sp.exp(sp.I*k*z+Lambda*t)\n",
    "disp_rel =sp.series(sp.expand(eta.diff(t) +1/3*(eta**3*(1+eta.diff(z)+eta.diff(z).diff(z).diff(z))).diff(z)), epsilon,0,2)\n",
    "sp.simplify(disp_rel/sp.exp(sp.I*k*z+Lambda*t)/h_1/epsilon)\n",
    "\n",
    "\n",
    "\n"
   ]
  },
  {
   "cell_type": "code",
   "execution_count": null,
   "id": "ba50d832",
   "metadata": {},
   "outputs": [],
   "source": []
  }
 ],
 "metadata": {
  "kernelspec": {
   "display_name": "Python 3 (ipykernel)",
   "language": "python",
   "name": "python3"
  },
  "language_info": {
   "codemirror_mode": {
    "name": "ipython",
    "version": 3
   },
   "file_extension": ".py",
   "mimetype": "text/x-python",
   "name": "python",
   "nbconvert_exporter": "python",
   "pygments_lexer": "ipython3",
   "version": "3.9.7"
  }
 },
 "nbformat": 4,
 "nbformat_minor": 5
}
